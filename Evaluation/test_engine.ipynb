{
 "cells": [
  {
   "cell_type": "code",
   "execution_count": 1,
   "metadata": {},
   "outputs": [
    {
     "name": "stdout",
     "output_type": "stream",
     "text": [
      "/home/dataproc\n"
     ]
    }
   ],
   "source": [
    "cd home/dataproc"
   ]
  },
  {
   "cell_type": "code",
   "execution_count": 2,
   "metadata": {},
   "outputs": [],
   "source": [
    "import json\n",
    "from tqdm import tqdm\n",
    "from time import time\n",
    "from itertools import product\n",
    "from typing import List, Tuple, Dict, Any\n",
    "from collections import defaultdict\n",
    "from search_backend import SearchMaster\n",
    "import pickle\n",
    "import pandas as pd\n",
    "import concurrent.futures\n",
    "import numpy as np\n",
    "from collections import Counter"
   ]
  },
  {
   "cell_type": "code",
   "execution_count": 3,
   "metadata": {},
   "outputs": [],
   "source": [
    "def average_precision(true_list, predicted_list, k=40):\n",
    "    true_set = frozenset(true_list)\n",
    "    predicted_list = predicted_list[:k]\n",
    "    precisions = []\n",
    "    for i, (doc_id, _) in enumerate(predicted_list):        \n",
    "        if doc_id in true_set:\n",
    "            prec = (len(precisions)+1) / (i+1)            \n",
    "            precisions.append(prec)\n",
    "        \n",
    "    if len(precisions) == 0:\n",
    "        return 0.0\n",
    "    return round(sum(precisions)/len(precisions),3)"
   ]
  },
  {
   "cell_type": "code",
   "execution_count": 4,
   "metadata": {},
   "outputs": [],
   "source": [
    "search_master = SearchMaster()"
   ]
  },
  {
   "cell_type": "code",
   "execution_count": 5,
   "metadata": {},
   "outputs": [],
   "source": [
    "with open('new_train.json', 'rt') as f:\n",
    "  queries = json.load(f)"
   ]
  },
  {
   "cell_type": "code",
   "execution_count": 6,
   "metadata": {},
   "outputs": [],
   "source": [
    "# split queries to train and test\n",
    "train = list(queries.items())[:int(len(queries) * (2/3))]\n",
    "test = list(queries.items())[int(len(queries) * (2/3)):]"
   ]
  },
  {
   "cell_type": "code",
   "execution_count": 6,
   "metadata": {},
   "outputs": [],
   "source": [
    "# params\n",
    "weights = np.random.uniform(0, 1, (5, 4))\n",
    "top_n = [10, 15, 20]\n",
    "max_workers = [2, 8, 16]\n",
    "min_threshold = [10, 100, 1000]\n",
    "neighbors = [2, 5, 10, 20]\n",
    "\n",
    "# Create a list of all possible combinations of parameter settings\n",
    "param_grid = list(product(weights, top_n, max_workers, min_threshold, neighbors))"
   ]
  },
  {
   "cell_type": "code",
   "execution_count": 8,
   "metadata": {},
   "outputs": [],
   "source": [
    "def adjust_model(weights, top_n, max_workers, min_threshold, neighbors):\n",
    "    def expand_query(tokenized_query, pls, index, min_threshold=min_threshold, neighbors=neighbors):       \n",
    "        query_expansion = []\n",
    "        for word, pl in pls.items():\n",
    "            if len(pl) < min_threshold:\n",
    "                for word, _ in search_master.word_vectors.most_similar(word, topn=neighbors):\n",
    "                    if word not in tokenized_query:\n",
    "                        query_expansion.append(word)\n",
    "        query_expansion, expansion_pls = search_master.get_all_postings(index, query_expansion)\n",
    "        tokenized_query += query_expansion\n",
    "        pls.update(expansion_pls)\n",
    "        return tokenized_query, pls\n",
    "\n",
    "    search_master.expand_query = expand_query\n",
    "\n",
    "    def best_search(query, weights=weights, top_n=top_n):\n",
    "        # get search results\n",
    "        with concurrent.futures.ThreadPoolExecutor(max_workers=max_workers) as executor:\n",
    "            jobs = [executor.submit(search_master.binary_search, query, search_master.title_index, expand=True),\n",
    "                    executor.submit(search_master.bm25_search, query, search_master.stem_body_index, with_stem=True)]\n",
    "\n",
    "            results = [job.result() for job in jobs]\n",
    "            results[0] =results[0].most_common(100)\n",
    "        # merge searchs\n",
    "        results = search_master.merge(results, weights)\n",
    "        # return top n results\n",
    "        return search_master.result_w_title([doc_id for doc_id, score in results[:top_n]])\n",
    "\n",
    "    search_master.best_search = best_search\n",
    "    "
   ]
  },
  {
   "cell_type": "code",
   "execution_count": null,
   "metadata": {},
   "outputs": [
    {
     "name": "stderr",
     "output_type": "stream",
     "text": [
      "1it [00:29, 29.19s/it]"
     ]
    },
    {
     "name": "stdout",
     "output_type": "stream",
     "text": [
      "Params: (array([0.07472595, 0.86799282, 0.60362071, 0.17747525]), 20, 2, 10, 2)\\map@40: 0.48335000000000006\n",
      "Avg Time: 1.4595978498458861\n",
      "\n"
     ]
    },
    {
     "name": "stderr",
     "output_type": "stream",
     "text": [
      "\r\n",
      "2it [00:57, 28.91s/it]"
     ]
    },
    {
     "name": "stdout",
     "output_type": "stream",
     "text": [
      "Params: (array([0.07472595, 0.86799282, 0.60362071, 0.17747525]), 20, 2, 10, 5)\\map@40: 0.46545000000000003\n",
      "Avg Time: 1.435815703868866\n",
      "\n"
     ]
    },
    {
     "name": "stderr",
     "output_type": "stream",
     "text": [
      "\r\n",
      "3it [01:27, 29.14s/it]"
     ]
    },
    {
     "name": "stdout",
     "output_type": "stream",
     "text": [
      "Params: (array([0.07472595, 0.86799282, 0.60362071, 0.17747525]), 20, 2, 10, 10)\\map@40: 0.45185000000000003\n",
      "Avg Time: 1.4705057501792909\n",
      "\n"
     ]
    },
    {
     "name": "stderr",
     "output_type": "stream",
     "text": [
      "\r\n",
      "4it [01:57, 29.72s/it]"
     ]
    },
    {
     "name": "stdout",
     "output_type": "stream",
     "text": [
      "Params: (array([0.07472595, 0.86799282, 0.60362071, 0.17747525]), 20, 2, 10, 20)\\map@40: 0.4487000000000001\n",
      "Avg Time: 1.530689263343811\n",
      "\n"
     ]
    },
    {
     "name": "stderr",
     "output_type": "stream",
     "text": [
      "\r\n",
      "5it [02:27, 29.58s/it]"
     ]
    },
    {
     "name": "stdout",
     "output_type": "stream",
     "text": [
      "Params: (array([0.07472595, 0.86799282, 0.60362071, 0.17747525]), 20, 2, 100, 2)\\map@40: 0.4912000000000001\n",
      "Avg Time: 1.4661677956581116\n",
      "\n"
     ]
    },
    {
     "name": "stderr",
     "output_type": "stream",
     "text": [
      "\r\n",
      "6it [02:57, 29.71s/it]"
     ]
    },
    {
     "name": "stdout",
     "output_type": "stream",
     "text": [
      "Params: (array([0.07472595, 0.86799282, 0.60362071, 0.17747525]), 20, 2, 100, 5)\\map@40: 0.4874500000000001\n",
      "Avg Time: 1.4978641986846923\n",
      "\n"
     ]
    },
    {
     "name": "stderr",
     "output_type": "stream",
     "text": [
      "\r\n",
      "7it [03:28, 30.38s/it]"
     ]
    },
    {
     "name": "stdout",
     "output_type": "stream",
     "text": [
      "Params: (array([0.07472595, 0.86799282, 0.60362071, 0.17747525]), 20, 2, 100, 10)\\map@40: 0.4534000000000001\n",
      "Avg Time: 1.5881641626358032\n",
      "\n"
     ]
    },
    {
     "name": "stderr",
     "output_type": "stream",
     "text": [
      "\r\n",
      "8it [04:05, 32.21s/it]"
     ]
    },
    {
     "name": "stdout",
     "output_type": "stream",
     "text": [
      "Params: (array([0.07472595, 0.86799282, 0.60362071, 0.17747525]), 20, 2, 100, 20)\\map@40: 0.44910000000000017\n",
      "Avg Time: 1.8058732748031616\n",
      "\n"
     ]
    },
    {
     "name": "stderr",
     "output_type": "stream",
     "text": [
      "\r\n",
      "9it [04:34, 31.47s/it]"
     ]
    },
    {
     "name": "stdout",
     "output_type": "stream",
     "text": [
      "Params: (array([0.07472595, 0.86799282, 0.60362071, 0.17747525]), 20, 2, 1000, 2)\\map@40: 0.44010000000000005\n",
      "Avg Time: 1.4930981993675232\n",
      "\n"
     ]
    },
    {
     "name": "stderr",
     "output_type": "stream",
     "text": [
      "\r\n",
      "10it [05:08, 32.00s/it]"
     ]
    },
    {
     "name": "stdout",
     "output_type": "stream",
     "text": [
      "Params: (array([0.07472595, 0.86799282, 0.60362071, 0.17747525]), 20, 2, 1000, 5)\\map@40: 0.46665\n",
      "Avg Time: 1.6587599277496339\n",
      "\n"
     ]
    },
    {
     "name": "stderr",
     "output_type": "stream",
     "text": [
      "\r\n",
      "11it [05:47, 34.25s/it]"
     ]
    },
    {
     "name": "stdout",
     "output_type": "stream",
     "text": [
      "Params: (array([0.07472595, 0.86799282, 0.60362071, 0.17747525]), 20, 2, 1000, 10)\\map@40: 0.45759999999999995\n",
      "Avg Time: 1.9678535461425781\n",
      "\n"
     ]
    },
    {
     "name": "stderr",
     "output_type": "stream",
     "text": [
      "\r\n",
      "12it [06:37, 39.16s/it]"
     ]
    },
    {
     "name": "stdout",
     "output_type": "stream",
     "text": [
      "Params: (array([0.07472595, 0.86799282, 0.60362071, 0.17747525]), 20, 2, 1000, 20)\\map@40: 0.46215\n",
      "Avg Time: 2.519384443759918\n",
      "\n"
     ]
    },
    {
     "name": "stderr",
     "output_type": "stream",
     "text": [
      "\r\n",
      "13it [07:06, 35.95s/it]"
     ]
    },
    {
     "name": "stdout",
     "output_type": "stream",
     "text": [
      "Params: (array([0.07472595, 0.86799282, 0.60362071, 0.17747525]), 20, 8, 10, 2)\\map@40: 0.48335000000000006\n",
      "Avg Time: 1.4283358097076415\n",
      "\n"
     ]
    },
    {
     "name": "stderr",
     "output_type": "stream",
     "text": [
      "\r\n",
      "14it [07:34, 33.60s/it]"
     ]
    },
    {
     "name": "stdout",
     "output_type": "stream",
     "text": [
      "Params: (array([0.07472595, 0.86799282, 0.60362071, 0.17747525]), 20, 8, 10, 5)\\map@40: 0.46545000000000003\n",
      "Avg Time: 1.4080057501792909\n",
      "\n"
     ]
    },
    {
     "name": "stderr",
     "output_type": "stream",
     "text": [
      "\r\n",
      "15it [08:03, 32.21s/it]"
     ]
    },
    {
     "name": "stdout",
     "output_type": "stream",
     "text": [
      "Params: (array([0.07472595, 0.86799282, 0.60362071, 0.17747525]), 20, 8, 10, 10)\\map@40: 0.45185000000000003\n",
      "Avg Time: 1.4499689936637878\n",
      "\n"
     ]
    },
    {
     "name": "stderr",
     "output_type": "stream",
     "text": [
      "\r\n",
      "17it [09:04, 31.12s/it]"
     ]
    },
    {
     "name": "stdout",
     "output_type": "stream",
     "text": [
      "Params: (array([0.07472595, 0.86799282, 0.60362071, 0.17747525]), 20, 8, 100, 2)\\map@40: 0.4912000000000001\n",
      "Avg Time: 1.444845485687256\n",
      "\n"
     ]
    },
    {
     "name": "stderr",
     "output_type": "stream",
     "text": [
      "\r\n",
      "18it [09:33, 30.57s/it]"
     ]
    },
    {
     "name": "stdout",
     "output_type": "stream",
     "text": [
      "Params: (array([0.07472595, 0.86799282, 0.60362071, 0.17747525]), 20, 8, 100, 5)\\map@40: 0.4874500000000001\n",
      "Avg Time: 1.464959180355072\n",
      "\n"
     ]
    },
    {
     "name": "stderr",
     "output_type": "stream",
     "text": [
      "\r\n",
      "19it [10:04, 30.68s/it]"
     ]
    },
    {
     "name": "stdout",
     "output_type": "stream",
     "text": [
      "Params: (array([0.07472595, 0.86799282, 0.60362071, 0.17747525]), 20, 8, 100, 10)\\map@40: 0.4534000000000001\n",
      "Avg Time: 1.5466716051101685\n",
      "\n"
     ]
    },
    {
     "name": "stderr",
     "output_type": "stream",
     "text": [
      "\r\n",
      "20it [10:38, 31.79s/it]"
     ]
    },
    {
     "name": "stdout",
     "output_type": "stream",
     "text": [
      "Params: (array([0.07472595, 0.86799282, 0.60362071, 0.17747525]), 20, 8, 100, 20)\\map@40: 0.44910000000000017\n",
      "Avg Time: 1.719293463230133\n",
      "\n"
     ]
    },
    {
     "name": "stderr",
     "output_type": "stream",
     "text": [
      "\r\n",
      "21it [11:08, 31.10s/it]"
     ]
    },
    {
     "name": "stdout",
     "output_type": "stream",
     "text": [
      "Params: (array([0.07472595, 0.86799282, 0.60362071, 0.17747525]), 20, 8, 1000, 2)\\map@40: 0.44010000000000005\n",
      "Avg Time: 1.474170732498169\n",
      "\n"
     ]
    },
    {
     "name": "stderr",
     "output_type": "stream",
     "text": [
      "\r\n",
      "22it [11:40, 31.41s/it]"
     ]
    },
    {
     "name": "stdout",
     "output_type": "stream",
     "text": [
      "Params: (array([0.07472595, 0.86799282, 0.60362071, 0.17747525]), 20, 8, 1000, 5)\\map@40: 0.46665\n",
      "Avg Time: 1.6070059537887573\n",
      "\n"
     ]
    },
    {
     "name": "stderr",
     "output_type": "stream",
     "text": [
      "\r\n",
      "23it [12:17, 33.23s/it]"
     ]
    },
    {
     "name": "stdout",
     "output_type": "stream",
     "text": [
      "Params: (array([0.07472595, 0.86799282, 0.60362071, 0.17747525]), 20, 8, 1000, 10)\\map@40: 0.45759999999999995\n",
      "Avg Time: 1.8729564666748046\n",
      "\n"
     ]
    },
    {
     "name": "stderr",
     "output_type": "stream",
     "text": [
      "\r\n",
      "24it [13:07, 38.12s/it]"
     ]
    },
    {
     "name": "stdout",
     "output_type": "stream",
     "text": [
      "Params: (array([0.07472595, 0.86799282, 0.60362071, 0.17747525]), 20, 8, 1000, 20)\\map@40: 0.46215\n",
      "Avg Time: 2.47707998752594\n",
      "\n"
     ]
    },
    {
     "name": "stderr",
     "output_type": "stream",
     "text": [
      "\r\n",
      "25it [13:35, 35.00s/it]"
     ]
    },
    {
     "name": "stdout",
     "output_type": "stream",
     "text": [
      "Params: (array([0.07472595, 0.86799282, 0.60362071, 0.17747525]), 20, 16, 10, 2)\\map@40: 0.48335000000000006\n",
      "Avg Time: 1.3848381638526917\n",
      "\n"
     ]
    },
    {
     "name": "stderr",
     "output_type": "stream",
     "text": [
      "\r\n",
      "26it [14:03, 32.94s/it]"
     ]
    },
    {
     "name": "stdout",
     "output_type": "stream",
     "text": [
      "Params: (array([0.07472595, 0.86799282, 0.60362071, 0.17747525]), 20, 16, 10, 5)\\map@40: 0.46545000000000003\n",
      "Avg Time: 1.4071223974227904\n",
      "\n"
     ]
    },
    {
     "name": "stderr",
     "output_type": "stream",
     "text": [
      "\r\n",
      "27it [14:31, 31.62s/it]"
     ]
    },
    {
     "name": "stdout",
     "output_type": "stream",
     "text": [
      "Params: (array([0.07472595, 0.86799282, 0.60362071, 0.17747525]), 20, 16, 10, 10)\\map@40: 0.45185000000000003\n",
      "Avg Time: 1.4272481203079224\n",
      "\n"
     ]
    },
    {
     "name": "stderr",
     "output_type": "stream",
     "text": [
      "\r\n",
      "28it [15:01, 31.06s/it]"
     ]
    },
    {
     "name": "stdout",
     "output_type": "stream",
     "text": [
      "Params: (array([0.07472595, 0.86799282, 0.60362071, 0.17747525]), 20, 16, 10, 20)\\map@40: 0.4487000000000001\n",
      "Avg Time: 1.4878825068473815\n",
      "\n"
     ]
    },
    {
     "name": "stderr",
     "output_type": "stream",
     "text": [
      "\r\n",
      "29it [15:30, 30.32s/it]"
     ]
    },
    {
     "name": "stdout",
     "output_type": "stream",
     "text": [
      "Params: (array([0.07472595, 0.86799282, 0.60362071, 0.17747525]), 20, 16, 100, 2)\\map@40: 0.4912000000000001\n",
      "Avg Time: 1.4288161993026733\n",
      "\n"
     ]
    },
    {
     "name": "stderr",
     "output_type": "stream",
     "text": [
      "\r\n",
      "30it [15:59, 29.96s/it]"
     ]
    },
    {
     "name": "stdout",
     "output_type": "stream",
     "text": [
      "Params: (array([0.07472595, 0.86799282, 0.60362071, 0.17747525]), 20, 16, 100, 5)\\map@40: 0.4874500000000001\n",
      "Avg Time: 1.4565857887268066\n",
      "\n"
     ]
    },
    {
     "name": "stderr",
     "output_type": "stream",
     "text": [
      "\r\n",
      "31it [16:30, 30.28s/it]"
     ]
    },
    {
     "name": "stdout",
     "output_type": "stream",
     "text": [
      "Params: (array([0.07472595, 0.86799282, 0.60362071, 0.17747525]), 20, 16, 100, 10)\\map@40: 0.4534000000000001\n",
      "Avg Time: 1.550769865512848\n",
      "\n"
     ]
    },
    {
     "name": "stderr",
     "output_type": "stream",
     "text": [
      "\r\n",
      "32it [17:05, 31.76s/it]"
     ]
    },
    {
     "name": "stdout",
     "output_type": "stream",
     "text": [
      "Params: (array([0.07472595, 0.86799282, 0.60362071, 0.17747525]), 20, 16, 100, 20)\\map@40: 0.44910000000000017\n",
      "Avg Time: 1.7604411125183106\n",
      "\n"
     ]
    },
    {
     "name": "stderr",
     "output_type": "stream",
     "text": [
      "\r\n",
      "33it [17:34, 30.98s/it]"
     ]
    },
    {
     "name": "stdout",
     "output_type": "stream",
     "text": [
      "Params: (array([0.07472595, 0.86799282, 0.60362071, 0.17747525]), 20, 16, 1000, 2)\\map@40: 0.44010000000000005\n",
      "Avg Time: 1.4580881476402283\n",
      "\n"
     ]
    },
    {
     "name": "stderr",
     "output_type": "stream",
     "text": [
      "\r\n",
      "34it [18:07, 31.54s/it]"
     ]
    },
    {
     "name": "stdout",
     "output_type": "stream",
     "text": [
      "Params: (array([0.07472595, 0.86799282, 0.60362071, 0.17747525]), 20, 16, 1000, 5)\\map@40: 0.46665\n",
      "Avg Time: 1.6417258977890015\n",
      "\n"
     ]
    },
    {
     "name": "stderr",
     "output_type": "stream",
     "text": [
      "\r\n",
      "35it [18:44, 33.01s/it]"
     ]
    },
    {
     "name": "stdout",
     "output_type": "stream",
     "text": [
      "Params: (array([0.07472595, 0.86799282, 0.60362071, 0.17747525]), 20, 16, 1000, 10)\\map@40: 0.45759999999999995\n",
      "Avg Time: 1.8218944191932678\n",
      "\n"
     ]
    },
    {
     "name": "stderr",
     "output_type": "stream",
     "text": [
      "\r\n",
      "36it [19:32, 37.67s/it]"
     ]
    },
    {
     "name": "stdout",
     "output_type": "stream",
     "text": [
      "Params: (array([0.07472595, 0.86799282, 0.60362071, 0.17747525]), 20, 16, 1000, 20)\\map@40: 0.46215\n",
      "Avg Time: 2.4273187637329103\n",
      "\n"
     ]
    },
    {
     "name": "stderr",
     "output_type": "stream",
     "text": [
      "\r\n",
      "37it [20:00, 34.78s/it]"
     ]
    },
    {
     "name": "stdout",
     "output_type": "stream",
     "text": [
      "Params: (array([0.07472595, 0.86799282, 0.60362071, 0.17747525]), 50, 2, 10, 2)\\map@40: 0.41395\n",
      "Avg Time: 1.4013791918754577\n",
      "\n"
     ]
    },
    {
     "name": "stderr",
     "output_type": "stream",
     "text": [
      "\r\n",
      "38it [20:28, 32.81s/it]"
     ]
    },
    {
     "name": "stdout",
     "output_type": "stream",
     "text": [
      "Params: (array([0.07472595, 0.86799282, 0.60362071, 0.17747525]), 50, 2, 10, 5)\\map@40: 0.39985\n",
      "Avg Time: 1.4101505398750305\n",
      "\n"
     ]
    },
    {
     "name": "stderr",
     "output_type": "stream",
     "text": [
      "\r\n",
      "39it [20:58, 31.86s/it]"
     ]
    },
    {
     "name": "stdout",
     "output_type": "stream",
     "text": [
      "Params: (array([0.07472595, 0.86799282, 0.60362071, 0.17747525]), 50, 2, 10, 10)\\map@40: 0.38944999999999996\n",
      "Avg Time: 1.4829284429550171\n",
      "\n"
     ]
    },
    {
     "name": "stderr",
     "output_type": "stream",
     "text": [
      "\r\n",
      "40it [21:28, 31.27s/it]"
     ]
    },
    {
     "name": "stdout",
     "output_type": "stream",
     "text": [
      "Params: (array([0.07472595, 0.86799282, 0.60362071, 0.17747525]), 50, 2, 10, 20)\\map@40: 0.38949999999999996\n",
      "Avg Time: 1.4946446657180785\n",
      "\n"
     ]
    },
    {
     "name": "stderr",
     "output_type": "stream",
     "text": [
      "\r\n",
      "41it [21:56, 30.35s/it]"
     ]
    },
    {
     "name": "stdout",
     "output_type": "stream",
     "text": [
      "Params: (array([0.07472595, 0.86799282, 0.60362071, 0.17747525]), 50, 2, 100, 2)\\map@40: 0.425\n",
      "Avg Time: 1.4094625949859618\n",
      "\n"
     ]
    },
    {
     "name": "stderr",
     "output_type": "stream",
     "text": [
      "\r\n",
      "42it [22:26, 30.08s/it]"
     ]
    },
    {
     "name": "stdout",
     "output_type": "stream",
     "text": [
      "Params: (array([0.07472595, 0.86799282, 0.60362071, 0.17747525]), 50, 2, 100, 5)\\map@40: 0.41269999999999996\n",
      "Avg Time: 1.4732288718223572\n",
      "\n"
     ]
    },
    {
     "name": "stderr",
     "output_type": "stream",
     "text": [
      "\r\n",
      "43it [22:57, 30.53s/it]"
     ]
    },
    {
     "name": "stdout",
     "output_type": "stream",
     "text": [
      "Params: (array([0.07472595, 0.86799282, 0.60362071, 0.17747525]), 50, 2, 100, 10)\\map@40: 0.37870000000000004\n",
      "Avg Time: 1.5790726780891418\n",
      "\n"
     ]
    },
    {
     "name": "stderr",
     "output_type": "stream",
     "text": [
      "\r\n",
      "44it [23:33, 31.99s/it]"
     ]
    },
    {
     "name": "stdout",
     "output_type": "stream",
     "text": [
      "Params: (array([0.07472595, 0.86799282, 0.60362071, 0.17747525]), 50, 2, 100, 20)\\map@40: 0.37745\n",
      "Avg Time: 1.7692219614982605\n",
      "\n"
     ]
    },
    {
     "name": "stderr",
     "output_type": "stream",
     "text": [
      "\r\n",
      "45it [24:02, 31.21s/it]"
     ]
    },
    {
     "name": "stdout",
     "output_type": "stream",
     "text": [
      "Params: (array([0.07472595, 0.86799282, 0.60362071, 0.17747525]), 50, 2, 1000, 2)\\map@40: 0.38285\n",
      "Avg Time: 1.469114100933075\n",
      "\n"
     ]
    },
    {
     "name": "stderr",
     "output_type": "stream",
     "text": [
      "\r\n",
      "46it [24:35, 31.65s/it]"
     ]
    },
    {
     "name": "stdout",
     "output_type": "stream",
     "text": [
      "Params: (array([0.07472595, 0.86799282, 0.60362071, 0.17747525]), 50, 2, 1000, 5)\\map@40: 0.38285\n",
      "Avg Time: 1.6336932063102723\n",
      "\n"
     ]
    },
    {
     "name": "stderr",
     "output_type": "stream",
     "text": [
      "\r\n",
      "47it [25:14, 33.96s/it]"
     ]
    },
    {
     "name": "stdout",
     "output_type": "stream",
     "text": [
      "Params: (array([0.07472595, 0.86799282, 0.60362071, 0.17747525]), 50, 2, 1000, 10)\\map@40: 0.35605\n",
      "Avg Time: 1.9672263622283936\n",
      "\n"
     ]
    },
    {
     "name": "stderr",
     "output_type": "stream",
     "text": [
      "\r\n",
      "48it [26:03, 38.44s/it]"
     ]
    },
    {
     "name": "stdout",
     "output_type": "stream",
     "text": [
      "Params: (array([0.07472595, 0.86799282, 0.60362071, 0.17747525]), 50, 2, 1000, 20)\\map@40: 0.36014999999999997\n",
      "Avg Time: 2.4447973489761354\n",
      "\n"
     ]
    },
    {
     "name": "stderr",
     "output_type": "stream",
     "text": [
      "\r\n",
      "49it [26:31, 35.37s/it]"
     ]
    },
    {
     "name": "stdout",
     "output_type": "stream",
     "text": [
      "Params: (array([0.07472595, 0.86799282, 0.60362071, 0.17747525]), 50, 8, 10, 2)\\map@40: 0.41395\n",
      "Avg Time: 1.4098634243011474\n",
      "\n"
     ]
    },
    {
     "name": "stderr",
     "output_type": "stream",
     "text": [
      "\r\n",
      "50it [26:59, 33.30s/it]"
     ]
    },
    {
     "name": "stdout",
     "output_type": "stream",
     "text": [
      "Params: (array([0.07472595, 0.86799282, 0.60362071, 0.17747525]), 50, 8, 10, 5)\\map@40: 0.39985\n",
      "Avg Time: 1.4229788422584533\n",
      "\n"
     ]
    },
    {
     "name": "stderr",
     "output_type": "stream",
     "text": [
      "\r\n",
      "51it [27:30, 32.35s/it]"
     ]
    },
    {
     "name": "stdout",
     "output_type": "stream",
     "text": [
      "Params: (array([0.07472595, 0.86799282, 0.60362071, 0.17747525]), 50, 8, 10, 10)\\map@40: 0.38944999999999996\n",
      "Avg Time: 1.5072954773902894\n",
      "\n"
     ]
    },
    {
     "name": "stderr",
     "output_type": "stream",
     "text": [
      "\r\n",
      "52it [28:00, 31.69s/it]"
     ]
    },
    {
     "name": "stdout",
     "output_type": "stream",
     "text": [
      "Params: (array([0.07472595, 0.86799282, 0.60362071, 0.17747525]), 50, 8, 10, 20)\\map@40: 0.38949999999999996\n",
      "Avg Time: 1.507152760028839\n",
      "\n"
     ]
    },
    {
     "name": "stderr",
     "output_type": "stream",
     "text": [
      "\r\n",
      "53it [28:29, 30.98s/it]"
     ]
    },
    {
     "name": "stdout",
     "output_type": "stream",
     "text": [
      "Params: (array([0.07472595, 0.86799282, 0.60362071, 0.17747525]), 50, 8, 100, 2)\\map@40: 0.425\n",
      "Avg Time: 1.466256284713745\n",
      "\n"
     ]
    },
    {
     "name": "stderr",
     "output_type": "stream",
     "text": [
      "\r\n",
      "54it [29:01, 31.27s/it]"
     ]
    },
    {
     "name": "stdout",
     "output_type": "stream",
     "text": [
      "Params: (array([0.07472595, 0.86799282, 0.60362071, 0.17747525]), 50, 8, 100, 5)\\map@40: 0.41269999999999996\n",
      "Avg Time: 1.5968133330345153\n",
      "\n"
     ]
    },
    {
     "name": "stderr",
     "output_type": "stream",
     "text": [
      "\r\n",
      "55it [29:32, 31.24s/it]"
     ]
    },
    {
     "name": "stdout",
     "output_type": "stream",
     "text": [
      "Params: (array([0.07472595, 0.86799282, 0.60362071, 0.17747525]), 50, 8, 100, 10)\\map@40: 0.37870000000000004\n",
      "Avg Time: 1.5581387519836425\n",
      "\n"
     ]
    },
    {
     "name": "stderr",
     "output_type": "stream",
     "text": [
      "\r\n",
      "56it [30:09, 33.00s/it]"
     ]
    },
    {
     "name": "stdout",
     "output_type": "stream",
     "text": [
      "Params: (array([0.07472595, 0.86799282, 0.60362071, 0.17747525]), 50, 8, 100, 20)\\map@40: 0.37745\n",
      "Avg Time: 1.8561595678329468\n",
      "\n"
     ]
    },
    {
     "name": "stderr",
     "output_type": "stream",
     "text": [
      "\r\n",
      "57it [30:41, 32.48s/it]"
     ]
    },
    {
     "name": "stdout",
     "output_type": "stream",
     "text": [
      "Params: (array([0.07472595, 0.86799282, 0.60362071, 0.17747525]), 50, 8, 1000, 2)\\map@40: 0.38285\n",
      "Avg Time: 1.5627346158027648\n",
      "\n"
     ]
    },
    {
     "name": "stderr",
     "output_type": "stream",
     "text": [
      "\r\n",
      "58it [31:13, 32.58s/it]"
     ]
    },
    {
     "name": "stdout",
     "output_type": "stream",
     "text": [
      "Params: (array([0.07472595, 0.86799282, 0.60362071, 0.17747525]), 50, 8, 1000, 5)\\map@40: 0.38285\n",
      "Avg Time: 1.6412116050720216\n",
      "\n"
     ]
    },
    {
     "name": "stderr",
     "output_type": "stream",
     "text": [
      "\r\n",
      "59it [31:51, 34.00s/it]"
     ]
    },
    {
     "name": "stdout",
     "output_type": "stream",
     "text": [
      "Params: (array([0.07472595, 0.86799282, 0.60362071, 0.17747525]), 50, 8, 1000, 10)\\map@40: 0.35605\n",
      "Avg Time: 1.8658796072006225\n",
      "\n"
     ]
    },
    {
     "name": "stderr",
     "output_type": "stream",
     "text": [
      "\r\n",
      "60it [32:39, 38.20s/it]"
     ]
    },
    {
     "name": "stdout",
     "output_type": "stream",
     "text": [
      "Params: (array([0.07472595, 0.86799282, 0.60362071, 0.17747525]), 50, 8, 1000, 20)\\map@40: 0.36014999999999997\n",
      "Avg Time: 2.3995554208755494\n",
      "\n"
     ]
    },
    {
     "name": "stderr",
     "output_type": "stream",
     "text": [
      "60it [32:45, 32.76s/it]\n"
     ]
    },
    {
     "ename": "KeyboardInterrupt",
     "evalue": "",
     "output_type": "error",
     "traceback": [
      "\u001b[0;31m---------------------------------------------------------------------------\u001b[0m",
      "\u001b[0;31mKeyboardInterrupt\u001b[0m                         Traceback (most recent call last)",
      "Cell \u001b[0;32mIn[9], line 13\u001b[0m\n\u001b[1;32m     11\u001b[0m \u001b[38;5;28;01mfor\u001b[39;00m query, true_list \u001b[38;5;129;01min\u001b[39;00m train:\n\u001b[1;32m     12\u001b[0m     start \u001b[38;5;241m=\u001b[39m time()\n\u001b[0;32m---> 13\u001b[0m     res \u001b[38;5;241m=\u001b[39m \u001b[43msearch_master\u001b[49m\u001b[38;5;241;43m.\u001b[39;49m\u001b[43mbest_search\u001b[49m\u001b[43m(\u001b[49m\u001b[43mquery\u001b[49m\u001b[43m)\u001b[49m\n\u001b[1;32m     14\u001b[0m     total_time \u001b[38;5;241m=\u001b[39m time() \u001b[38;5;241m-\u001b[39m start\n\u001b[1;32m     15\u001b[0m     results\u001b[38;5;241m.\u001b[39mappend(average_precision(true_list, res)) \n",
      "Cell \u001b[0;32mIn[8], line 22\u001b[0m, in \u001b[0;36madjust_model.<locals>.best_search\u001b[0;34m(query, weights, top_n)\u001b[0m\n\u001b[1;32m     18\u001b[0m \u001b[38;5;28;01mwith\u001b[39;00m concurrent\u001b[38;5;241m.\u001b[39mfutures\u001b[38;5;241m.\u001b[39mThreadPoolExecutor(max_workers\u001b[38;5;241m=\u001b[39mmax_workers) \u001b[38;5;28;01mas\u001b[39;00m executor:\n\u001b[1;32m     19\u001b[0m     jobs \u001b[38;5;241m=\u001b[39m [executor\u001b[38;5;241m.\u001b[39msubmit(search_master\u001b[38;5;241m.\u001b[39mbinary_search, query, search_master\u001b[38;5;241m.\u001b[39mtitle_index, expand\u001b[38;5;241m=\u001b[39m\u001b[38;5;28;01mTrue\u001b[39;00m),\n\u001b[1;32m     20\u001b[0m             executor\u001b[38;5;241m.\u001b[39msubmit(search_master\u001b[38;5;241m.\u001b[39mbm25_search, query, search_master\u001b[38;5;241m.\u001b[39mstem_body_index, with_stem\u001b[38;5;241m=\u001b[39m\u001b[38;5;28;01mTrue\u001b[39;00m)]\n\u001b[0;32m---> 22\u001b[0m     results \u001b[38;5;241m=\u001b[39m [job\u001b[38;5;241m.\u001b[39mresult() \u001b[38;5;28;01mfor\u001b[39;00m job \u001b[38;5;129;01min\u001b[39;00m jobs]\n\u001b[1;32m     23\u001b[0m     results[\u001b[38;5;241m0\u001b[39m] \u001b[38;5;241m=\u001b[39mresults[\u001b[38;5;241m0\u001b[39m]\u001b[38;5;241m.\u001b[39mmost_common(\u001b[38;5;241m100\u001b[39m)\n\u001b[1;32m     24\u001b[0m \u001b[38;5;66;03m# merge searchs\u001b[39;00m\n",
      "Cell \u001b[0;32mIn[8], line 22\u001b[0m, in \u001b[0;36m<listcomp>\u001b[0;34m(.0)\u001b[0m\n\u001b[1;32m     18\u001b[0m \u001b[38;5;28;01mwith\u001b[39;00m concurrent\u001b[38;5;241m.\u001b[39mfutures\u001b[38;5;241m.\u001b[39mThreadPoolExecutor(max_workers\u001b[38;5;241m=\u001b[39mmax_workers) \u001b[38;5;28;01mas\u001b[39;00m executor:\n\u001b[1;32m     19\u001b[0m     jobs \u001b[38;5;241m=\u001b[39m [executor\u001b[38;5;241m.\u001b[39msubmit(search_master\u001b[38;5;241m.\u001b[39mbinary_search, query, search_master\u001b[38;5;241m.\u001b[39mtitle_index, expand\u001b[38;5;241m=\u001b[39m\u001b[38;5;28;01mTrue\u001b[39;00m),\n\u001b[1;32m     20\u001b[0m             executor\u001b[38;5;241m.\u001b[39msubmit(search_master\u001b[38;5;241m.\u001b[39mbm25_search, query, search_master\u001b[38;5;241m.\u001b[39mstem_body_index, with_stem\u001b[38;5;241m=\u001b[39m\u001b[38;5;28;01mTrue\u001b[39;00m)]\n\u001b[0;32m---> 22\u001b[0m     results \u001b[38;5;241m=\u001b[39m [\u001b[43mjob\u001b[49m\u001b[38;5;241;43m.\u001b[39;49m\u001b[43mresult\u001b[49m\u001b[43m(\u001b[49m\u001b[43m)\u001b[49m \u001b[38;5;28;01mfor\u001b[39;00m job \u001b[38;5;129;01min\u001b[39;00m jobs]\n\u001b[1;32m     23\u001b[0m     results[\u001b[38;5;241m0\u001b[39m] \u001b[38;5;241m=\u001b[39mresults[\u001b[38;5;241m0\u001b[39m]\u001b[38;5;241m.\u001b[39mmost_common(\u001b[38;5;241m100\u001b[39m)\n\u001b[1;32m     24\u001b[0m \u001b[38;5;66;03m# merge searchs\u001b[39;00m\n",
      "File \u001b[0;32m/opt/conda/miniconda3/lib/python3.8/concurrent/futures/_base.py:439\u001b[0m, in \u001b[0;36mFuture.result\u001b[0;34m(self, timeout)\u001b[0m\n\u001b[1;32m    436\u001b[0m \u001b[38;5;28;01melif\u001b[39;00m \u001b[38;5;28mself\u001b[39m\u001b[38;5;241m.\u001b[39m_state \u001b[38;5;241m==\u001b[39m FINISHED:\n\u001b[1;32m    437\u001b[0m     \u001b[38;5;28;01mreturn\u001b[39;00m \u001b[38;5;28mself\u001b[39m\u001b[38;5;241m.\u001b[39m__get_result()\n\u001b[0;32m--> 439\u001b[0m \u001b[38;5;28;43mself\u001b[39;49m\u001b[38;5;241;43m.\u001b[39;49m\u001b[43m_condition\u001b[49m\u001b[38;5;241;43m.\u001b[39;49m\u001b[43mwait\u001b[49m\u001b[43m(\u001b[49m\u001b[43mtimeout\u001b[49m\u001b[43m)\u001b[49m\n\u001b[1;32m    441\u001b[0m \u001b[38;5;28;01mif\u001b[39;00m \u001b[38;5;28mself\u001b[39m\u001b[38;5;241m.\u001b[39m_state \u001b[38;5;129;01min\u001b[39;00m [CANCELLED, CANCELLED_AND_NOTIFIED]:\n\u001b[1;32m    442\u001b[0m     \u001b[38;5;28;01mraise\u001b[39;00m CancelledError()\n",
      "File \u001b[0;32m/opt/conda/miniconda3/lib/python3.8/threading.py:302\u001b[0m, in \u001b[0;36mCondition.wait\u001b[0;34m(self, timeout)\u001b[0m\n\u001b[1;32m    300\u001b[0m \u001b[38;5;28;01mtry\u001b[39;00m:    \u001b[38;5;66;03m# restore state no matter what (e.g., KeyboardInterrupt)\u001b[39;00m\n\u001b[1;32m    301\u001b[0m     \u001b[38;5;28;01mif\u001b[39;00m timeout \u001b[38;5;129;01mis\u001b[39;00m \u001b[38;5;28;01mNone\u001b[39;00m:\n\u001b[0;32m--> 302\u001b[0m         \u001b[43mwaiter\u001b[49m\u001b[38;5;241;43m.\u001b[39;49m\u001b[43macquire\u001b[49m\u001b[43m(\u001b[49m\u001b[43m)\u001b[49m\n\u001b[1;32m    303\u001b[0m         gotit \u001b[38;5;241m=\u001b[39m \u001b[38;5;28;01mTrue\u001b[39;00m\n\u001b[1;32m    304\u001b[0m     \u001b[38;5;28;01melse\u001b[39;00m:\n",
      "\u001b[0;31mKeyboardInterrupt\u001b[0m: "
     ]
    }
   ],
   "source": [
    "result_dict = dict()\n",
    "best_params = None\n",
    "best_score = -float('inf')\n",
    "for i, params in tqdm(enumerate(param_grid)):\n",
    "    weights, top_n, max_workers, min_threshold, neighbors = params\n",
    "    adjust_model(*params)\n",
    "\n",
    "    \n",
    "    results = []\n",
    "    times = []\n",
    "    for query, true_list in train:\n",
    "        start = time()\n",
    "        res = search_master.best_search(query)\n",
    "        total_time = time() - start\n",
    "        results.append(average_precision(true_list, res)) \n",
    "        times.append(total_time)\n",
    "        \n",
    "    score=np.mean(results)\n",
    "    avg_time=np.mean(times)\n",
    "    print(f'Params: {params}\\nmap@40: {score}\\nAvg Time: {avg_time}\\n')\n",
    "    \n",
    "    result_dict[i] = (score, avg_time)\n",
    "        \n",
    "    if score > best_score:\n",
    "        best_score = score\n",
    "        best_params = params\n",
    "        \n",
    "print(best_params)"
   ]
  },
  {
   "cell_type": "code",
   "execution_count": 10,
   "metadata": {},
   "outputs": [
    {
     "data": {
      "text/plain": [
       "(0.4912000000000001,\n",
       " (array([0.07472595, 0.86799282, 0.60362071, 0.17747525]), 20, 2, 100, 2))"
      ]
     },
     "execution_count": 10,
     "metadata": {},
     "output_type": "execute_result"
    }
   ],
   "source": [
    "best_score, best_params"
   ]
  },
  {
   "cell_type": "code",
   "execution_count": null,
   "metadata": {},
   "outputs": [],
   "source": [
    "with open('results', 'wb') as f:\n",
    "    pickle.dump(result_dict)"
   ]
  },
  {
   "cell_type": "code",
   "execution_count": 54,
   "metadata": {},
   "outputs": [],
   "source": [
    "# params\n",
    "weights = [[0.1, 0.8, 0.0001, 0.0001],\n",
    "           [0.01, 0.9, 0.0001, 0.0001],\n",
    "           [0.01, 0.9, 0.01, 0.001]]\n",
    "\n",
    "top_n = [10]\n",
    "min_threshold = [0]\n",
    "neighbors = [0]\n",
    "\n",
    "# Create a list of all possible combinations of parameter settings\n",
    "param_grid = list(product(weights, top_n, min_threshold, neighbors))"
   ]
  },
  {
   "cell_type": "code",
   "execution_count": 52,
   "metadata": {},
   "outputs": [],
   "source": [
    "def adjust_model(weights, top_n, min_threshold, neighbors):\n",
    "    def expand_query(tokenized_query, pls, index, min_threshold=min_threshold, neighbors=neighbors):       \n",
    "        query_expansion = []\n",
    "        for word, pl in pls.items():\n",
    "            if len(pl) < min_threshold:\n",
    "                for word, _ in search_master.word_vectors.most_similar(word, topn=neighbors):\n",
    "                    if word not in tokenized_query:\n",
    "                        query_expansion.append(word)\n",
    "        query_expansion, expansion_pls = search_master.get_all_postings(index, query_expansion)\n",
    "        tokenized_query += query_expansion\n",
    "        pls.update(expansion_pls)\n",
    "        return tokenized_query, pls\n",
    "\n",
    "    search_master.expand_query = expand_query\n",
    "\n",
    "    def best_search(query, weights=weights, top_n=top_n):\n",
    "        # get search results\n",
    "        with concurrent.futures.ThreadPoolExecutor(max_workers=8) as executor:\n",
    "            jobs = [executor.submit(search_master.binary_search, query, search_master.title_index, expand=True),\n",
    "                    executor.submit(search_master.bm25_search, query, search_master.stem_body_index, with_stem=True)]\n",
    "\n",
    "            results = [job.result() for job in jobs]\n",
    "            results[0] =results[0].most_common(100)\n",
    "        # merge searchs\n",
    "        results = search_master.merge(results, weights)\n",
    "        # return top n results\n",
    "        return search_master.result_w_title([doc_id for doc_id, score in results[:top_n]])\n",
    "\n",
    "    search_master.best_search = best_search\n",
    "    \n",
    "    def merge(self, results, weights):\n",
    "        # Create a dictionary to store the sum of scores for each id\n",
    "        doc_scores = defaultdict(float)\n",
    "        for i, result in enumerate(results):\n",
    "            for id, score in result:\n",
    "                doc_scores[id] += score * weights[i]\n",
    "\n",
    "        top_results = dict(sorted(doc_scores.items(), key=itemgetter(1), reverse=True)[:300])\n",
    "\n",
    "        page_rank = self.page_rank\n",
    "        page_views = self.page_views\n",
    "        for doc_id in top_results.keys():\n",
    "            top_results[doc_id] += weights[-2] * np.log(page_rank.get(doc_id, 0)) + weights[-1] * np.log(page_views.get(doc_id, 0))\n",
    "\n",
    "        return sorted(top_results.items(), key=itemgetter(1), reverse=True)"
   ]
  },
  {
   "cell_type": "code",
   "execution_count": 53,
   "metadata": {},
   "outputs": [
    {
     "name": "stderr",
     "output_type": "stream",
     "text": [
      "\r\n",
      "0it [00:00, ?it/s]"
     ]
    },
    {
     "name": "stdout",
     "output_type": "stream",
     "text": [
      "bad brediction for query \"How do kids come to world?\" (ap = 0.1) for params ([0.1, 0.8, 0.0001, 0.0001], 10, 0, 0))\n",
      "bad brediction for query \"Most expensive city in the world\" (ap = 0.208) for params ([0.1, 0.8, 0.0001, 0.0001], 10, 0, 0))\n"
     ]
    },
    {
     "name": "stderr",
     "output_type": "stream",
     "text": [
      "\r\n",
      "1it [00:28, 28.76s/it]"
     ]
    },
    {
     "name": "stdout",
     "output_type": "stream",
     "text": [
      "Params: ([0.1, 0.8, 0.0001, 0.0001], 10, 0, 0)\n",
      "map@40: 0.69445\n",
      "Avg Time: 1.4380361199378968\n",
      "\n",
      "bad brediction for query \"How do kids come to world?\" (ap = 0.1) for params ([0.01, 0.9, 0.0001, 0.0001], 10, 0, 0))\n",
      "bad brediction for query \"Most expensive city in the world\" (ap = 0.208) for params ([0.01, 0.9, 0.0001, 0.0001], 10, 0, 0))\n",
      "bad brediction for query \"How do you make gold\" (ap = 0.318) for params ([0.01, 0.9, 0.0001, 0.0001], 10, 0, 0))\n"
     ]
    },
    {
     "name": "stderr",
     "output_type": "stream",
     "text": [
      "\r\n",
      "2it [00:56, 28.23s/it]"
     ]
    },
    {
     "name": "stdout",
     "output_type": "stream",
     "text": [
      "Params: ([0.01, 0.9, 0.0001, 0.0001], 10, 0, 0)\n",
      "map@40: 0.6959500000000001\n",
      "Avg Time: 1.39297297000885\n",
      "\n",
      "bad brediction for query \"How do kids come to world?\" (ap = 0.183) for params ([0.01, 0.9, 0.01, 0.001], 10, 0, 0))\n",
      "bad brediction for query \"How to make wine at home?\" (ap = 0.25) for params ([0.01, 0.9, 0.01, 0.001], 10, 0, 0))\n",
      "bad brediction for query \"Most expensive city in the world\" (ap = 0.0) for params ([0.01, 0.9, 0.01, 0.001], 10, 0, 0))\n",
      "bad brediction for query \"How to lose weight?\" (ap = 0.0) for params ([0.01, 0.9, 0.01, 0.001], 10, 0, 0))\n",
      "bad brediction for query \"Air Jordan\" (ap = 0.29) for params ([0.01, 0.9, 0.01, 0.001], 10, 0, 0))\n",
      "bad brediction for query \"how to deal with depression?\" (ap = 0.287) for params ([0.01, 0.9, 0.01, 0.001], 10, 0, 0))\n"
     ]
    },
    {
     "name": "stderr",
     "output_type": "stream",
     "text": [
      "3it [01:24, 28.01s/it]"
     ]
    },
    {
     "name": "stdout",
     "output_type": "stream",
     "text": [
      "bad brediction for query \"How do you make gold\" (ap = 0.31) for params ([0.01, 0.9, 0.01, 0.001], 10, 0, 0))\n",
      "Params: ([0.01, 0.9, 0.01, 0.001], 10, 0, 0)\n",
      "map@40: 0.56395\n",
      "Avg Time: 1.3697314620018006\n",
      "\n",
      "([0.01, 0.9, 0.0001, 0.0001], 10, 0, 0)\n"
     ]
    },
    {
     "name": "stderr",
     "output_type": "stream",
     "text": [
      "\n"
     ]
    }
   ],
   "source": [
    "result_dict = dict()\n",
    "best_params = None\n",
    "best_score = -float('inf')\n",
    "for i, params in tqdm(enumerate(param_grid)):\n",
    "    adjust_model(*params)\n",
    "\n",
    "    \n",
    "    results = []\n",
    "    times = []\n",
    "    for query, true_list in train:\n",
    "        start = time()\n",
    "        res = search_master.best_search(query)\n",
    "        total_time = time() - start\n",
    "        ap = average_precision(true_list, res)\n",
    "        results.append(average_precision(true_list, res)) \n",
    "        times.append(total_time)\n",
    "        if ap <= 0.35:\n",
    "            print(f'bad brediction for query \"{query}\" (ap = {ap}) for params {params})')\n",
    "        \n",
    "    score=np.mean(results)\n",
    "    avg_time=np.mean(times)\n",
    "    print(f'Params: {params}\\nmap@40: {score}\\nAvg Time: {avg_time}\\n')\n",
    "    \n",
    "    result_dict[i] = (score, avg_time)\n",
    "        \n",
    "    if score > best_score:\n",
    "        best_score = score\n",
    "        best_params = params\n",
    "        \n",
    "print(best_params)"
   ]
  },
  {
   "cell_type": "code",
   "execution_count": 31,
   "metadata": {},
   "outputs": [
    {
     "data": {
      "text/plain": [
       "((3434750, 9913.728782160782), (656, 0.1501208493870428))"
      ]
     },
     "execution_count": 31,
     "metadata": {},
     "output_type": "execute_result"
    }
   ],
   "source": [
    "#pagerank\n",
    "max(list(search_master.page_rank.items()), key=lambda x: x[1]), min(list(search_master.page_rank.items()), key=lambda x: x[1])"
   ]
  },
  {
   "cell_type": "code",
   "execution_count": 32,
   "metadata": {},
   "outputs": [
    {
     "data": {
      "text/plain": [
       "((15580374, 181126232), (59827823, 1))"
      ]
     },
     "execution_count": 32,
     "metadata": {},
     "output_type": "execute_result"
    }
   ],
   "source": [
    "#page views\n",
    "max(list(search_master.page_views.items()), key=lambda x: x[1]), min(list(search_master.page_views.items()), key=lambda x: x[1])"
   ]
  },
  {
   "cell_type": "code",
   "execution_count": null,
   "metadata": {},
   "outputs": [],
   "source": [
    "#we will add log to merge on page_view and page rank!"
   ]
  },
  {
   "cell_type": "code",
   "execution_count": null,
   "metadata": {},
   "outputs": [],
   "source": []
  },
  {
   "cell_type": "markdown",
   "metadata": {},
   "source": [
    "# wide compare of methods"
   ]
  },
  {
   "cell_type": "code",
   "execution_count": 19,
   "metadata": {},
   "outputs": [],
   "source": [
    "# params\n",
    "weights = [[0.05, 0.9, 0.0001, 0.0001],\n",
    "           [0.2, 0.9, 0.0001, 0.0001],\n",
    "           [0.3, 0.9, 0.0001, 0.0001]]\n",
    "\n",
    "top_n = [10,20]\n",
    "min_threshold = [100]\n",
    "neighbors = [2]\n",
    "\n",
    "# Create a list of all possible combinations of parameter settings\n",
    "param_grid = list(product(weights, top_n, min_threshold, neighbors))\n",
    "self = search_master"
   ]
  },
  {
   "cell_type": "code",
   "execution_count": 20,
   "metadata": {},
   "outputs": [],
   "source": [
    "def adjust_model(weights, top_n, min_threshold, neighbors):\n",
    "    def expand_query(tokenized_query, pls, index, min_threshold=min_threshold, neighbors=neighbors):       \n",
    "        query_expansion = []\n",
    "        for word, pl in pls.items():\n",
    "            if len(pl) < min_threshold:\n",
    "                for word, _ in search_master.word_vectors.most_similar(word, topn=neighbors):\n",
    "                    if word not in tokenized_query:\n",
    "                        query_expansion.append(word)\n",
    "        query_expansion, expansion_pls = search_master.get_all_postings(index, query_expansion)\n",
    "        tokenized_query += query_expansion\n",
    "        pls.update(expansion_pls)\n",
    "        return tokenized_query, pls\n",
    "\n",
    "    search_master.expand_query = expand_query\n",
    "\n",
    "    def best_search(query, weights=weights, top_n=top_n):\n",
    "        # get search results\n",
    "        with concurrent.futures.ThreadPoolExecutor(max_workers=8) as executor:\n",
    "            jobs = [executor.submit(search_master.binary_search, query, search_master.stem_title_index, with_stem=True, expand=True),\n",
    "                    executor.submit(search_master.bm25_search, query, search_master.stem_body_index, \n",
    "                                    search_master.doc_length, with_stem=True, expand=True)]\n",
    "\n",
    "            results = [job.result() for job in jobs]\n",
    "            results[0] =results[0].most_common(100)\n",
    "        # merge searchs\n",
    "        results = search_master.merge(results, weights)\n",
    "        # return top n results\n",
    "        return search_master.result_w_title([doc_id for doc_id, score in results[:top_n]])\n",
    "\n",
    "    search_master.best_search = best_search\n",
    "    \n",
    "    def merge(self, results, weights):\n",
    "        # Create a dictionary to store the sum of scores for each id\n",
    "        doc_scores = defaultdict(float)\n",
    "        for i, result in enumerate(results):\n",
    "            for id, score in result:\n",
    "                doc_scores[id] += score * weights[i]\n",
    "\n",
    "        top_results = dict(sorted(doc_scores.items(), key=itemgetter(1), reverse=True)[:300])\n",
    "\n",
    "        page_rank = self.page_rank\n",
    "        page_views = self.page_views\n",
    "        for doc_id in top_results.keys():\n",
    "            top_results[doc_id] += weights[-2] * np.log(page_rank.get(doc_id, 1)) + weights[-1] * np.log(page_views.get(doc_id, 1))\n",
    "\n",
    "        return sorted(top_results.items(), key=itemgetter(1), reverse=True)"
   ]
  },
  {
   "cell_type": "code",
   "execution_count": 43,
   "metadata": {},
   "outputs": [
    {
     "name": "stderr",
     "output_type": "stream",
     "text": [
      "\r\n",
      "0it [00:00, ?it/s]"
     ]
    },
    {
     "name": "stdout",
     "output_type": "stream",
     "text": [
      "bad brediction for query \"How do kids come to world?\" (ap = 0.1) for params ([0.05, 0.9, 0.0001, 0.0001], 10, 100, 2))\n",
      "bad brediction for query \"Most expensive city in the world\" (ap = 0.243) for params ([0.05, 0.9, 0.0001, 0.0001], 10, 100, 2))\n"
     ]
    },
    {
     "name": "stderr",
     "output_type": "stream",
     "text": [
      "\r\n",
      "1it [00:28, 28.09s/it]"
     ]
    },
    {
     "name": "stdout",
     "output_type": "stream",
     "text": [
      "bad brediction for query \"How do you make gold\" (ap = 0.318) for params ([0.05, 0.9, 0.0001, 0.0001], 10, 100, 2))\n",
      "Params: ([0.05, 0.9, 0.0001, 0.0001], 10, 100, 2)\n",
      "map@40: 0.7054\n",
      "Avg Time: 1.404484796524048\n",
      "\n",
      "bad brediction for query \"How do kids come to world?\" (ap = 0.1) for params ([0.05, 0.9, 0.0001, 0.0001], 20, 100, 2))\n",
      "bad brediction for query \"Most expensive city in the world\" (ap = 0.243) for params ([0.05, 0.9, 0.0001, 0.0001], 20, 100, 2))\n"
     ]
    },
    {
     "name": "stderr",
     "output_type": "stream",
     "text": [
      "\r\n",
      "2it [00:56, 28.31s/it]"
     ]
    },
    {
     "name": "stdout",
     "output_type": "stream",
     "text": [
      "bad brediction for query \"How do you make gold\" (ap = 0.345) for params ([0.05, 0.9, 0.0001, 0.0001], 20, 100, 2))\n",
      "Params: ([0.05, 0.9, 0.0001, 0.0001], 20, 100, 2)\n",
      "map@40: 0.6976500000000001\n",
      "Avg Time: 1.4225597023963927\n",
      "\n",
      "bad brediction for query \"How do kids come to world?\" (ap = 0.1) for params ([0.2, 0.9, 0.0001, 0.0001], 10, 100, 2))\n",
      "bad brediction for query \"Most expensive city in the world\" (ap = 0.243) for params ([0.2, 0.9, 0.0001, 0.0001], 10, 100, 2))\n"
     ]
    },
    {
     "name": "stderr",
     "output_type": "stream",
     "text": [
      "\r\n",
      "3it [01:25, 28.46s/it]"
     ]
    },
    {
     "name": "stdout",
     "output_type": "stream",
     "text": [
      "bad brediction for query \"How do you make gold\" (ap = 0.318) for params ([0.2, 0.9, 0.0001, 0.0001], 10, 100, 2))\n",
      "Params: ([0.2, 0.9, 0.0001, 0.0001], 10, 100, 2)\n",
      "map@40: 0.7021\n",
      "Avg Time: 1.4314425706863403\n",
      "\n",
      "bad brediction for query \"How do kids come to world?\" (ap = 0.1) for params ([0.2, 0.9, 0.0001, 0.0001], 20, 100, 2))\n",
      "bad brediction for query \"Most expensive city in the world\" (ap = 0.243) for params ([0.2, 0.9, 0.0001, 0.0001], 20, 100, 2))\n"
     ]
    },
    {
     "name": "stderr",
     "output_type": "stream",
     "text": [
      "\r\n",
      "4it [01:53, 28.29s/it]"
     ]
    },
    {
     "name": "stdout",
     "output_type": "stream",
     "text": [
      "bad brediction for query \"How do you make gold\" (ap = 0.345) for params ([0.2, 0.9, 0.0001, 0.0001], 20, 100, 2))\n",
      "Params: ([0.2, 0.9, 0.0001, 0.0001], 20, 100, 2)\n",
      "map@40: 0.6938500000000001\n",
      "Avg Time: 1.401330554485321\n",
      "\n",
      "bad brediction for query \"How do kids come to world?\" (ap = 0.0) for params ([0.3, 0.9, 0.0001, 0.0001], 10, 100, 2))\n",
      "bad brediction for query \"Most expensive city in the world\" (ap = 0.243) for params ([0.3, 0.9, 0.0001, 0.0001], 10, 100, 2))\n"
     ]
    },
    {
     "name": "stderr",
     "output_type": "stream",
     "text": [
      "\r\n",
      "5it [02:21, 28.27s/it]"
     ]
    },
    {
     "name": "stdout",
     "output_type": "stream",
     "text": [
      "bad brediction for query \"How do you make gold\" (ap = 0.339) for params ([0.3, 0.9, 0.0001, 0.0001], 10, 100, 2))\n",
      "Params: ([0.3, 0.9, 0.0001, 0.0001], 10, 100, 2)\n",
      "map@40: 0.6944000000000001\n",
      "Avg Time: 1.4112839937210082\n",
      "\n",
      "bad brediction for query \"How do kids come to world?\" (ap = 0.091) for params ([0.3, 0.9, 0.0001, 0.0001], 20, 100, 2))\n",
      "bad brediction for query \"Most expensive city in the world\" (ap = 0.243) for params ([0.3, 0.9, 0.0001, 0.0001], 20, 100, 2))\n"
     ]
    },
    {
     "name": "stderr",
     "output_type": "stream",
     "text": [
      "6it [02:49, 28.30s/it]"
     ]
    },
    {
     "name": "stdout",
     "output_type": "stream",
     "text": [
      "Params: ([0.3, 0.9, 0.0001, 0.0001], 20, 100, 2)\n",
      "map@40: 0.6911999999999999\n",
      "Avg Time: 1.4183302879333497\n",
      "\n",
      "([0.05, 0.9, 0.0001, 0.0001], 10, 100, 2)\n"
     ]
    },
    {
     "name": "stderr",
     "output_type": "stream",
     "text": [
      "\n"
     ]
    }
   ],
   "source": [
    "result_dict = dict()\n",
    "best_params = None\n",
    "best_score = -float('inf')\n",
    "for i, params in tqdm(enumerate(param_grid)):\n",
    "    adjust_model(*params)\n",
    "\n",
    "    \n",
    "    results = []\n",
    "    times = []\n",
    "    for query, true_list in train:\n",
    "        start = time()\n",
    "        res = search_master.best_search(query)\n",
    "        total_time = time() - start\n",
    "        ap = average_precision(true_list, res)\n",
    "        results.append(average_precision(true_list, res)) \n",
    "        times.append(total_time)\n",
    "        if ap <= 0.35:\n",
    "            print(f'bad brediction for query \"{query}\" (ap = {ap}) for params {params})')\n",
    "        \n",
    "    score=np.mean(results)\n",
    "    avg_time=np.mean(times)\n",
    "    print(f'Params: {params}\\nmap@40: {score}\\nAvg Time: {avg_time}\\n')\n",
    "    \n",
    "    result_dict[i] = (score, avg_time)\n",
    "        \n",
    "    if score > best_score:\n",
    "        best_score = score\n",
    "        best_params = params\n",
    "        \n",
    "print(best_params)"
   ]
  },
  {
   "cell_type": "code",
   "execution_count": null,
   "metadata": {},
   "outputs": [],
   "source": []
  },
  {
   "cell_type": "code",
   "execution_count": 21,
   "metadata": {},
   "outputs": [],
   "source": [
    "from math import log, sqrt\n",
    "def tfidf_vectors(inverted_index: Dict[str, List[Tuple[int, int]]],\n",
    "                  df: Dict[str, int],\n",
    "                  Q: List[str],\n",
    "                  DL: Dict[int, int]) -> Tuple[Dict[str, float], Dict[int, Dict[str, float]]]:\n",
    "    N = len(DL)\n",
    "    query_vec = {}\n",
    "    doc_vecs = {}\n",
    "    # calculate the tf-idf score for each word in the query\n",
    "    for word in Q:\n",
    "        tf = Q.count(word) / len(Q)\n",
    "        idf = log(N/df[word]) #.get(word, 1))\n",
    "        query_vec[word] = tf * idf\n",
    "    # Only calculate the tf-idf score for each word in the document if it's in the query\n",
    "    for word in Q:\n",
    "        for doc_id, tf in inverted_index.get(word, []):\n",
    "            if doc_id not in doc_vecs:\n",
    "                doc_vecs[doc_id] = {}\n",
    "            try:\n",
    "                tf_norm = tf / DL[doc_id]\n",
    "                idf = log(N/df[word])\n",
    "            except ZeroDivisionError:\n",
    "                raise ZeroDivisionError(f'{doc_id} not found for word \"{word}\"')\n",
    "            doc_vecs[doc_id][word] = tf_norm * idf\n",
    "    return query_vec, doc_vecs\n",
    "\n",
    "def cosine_similarity(vec1: Dict[str, float], vec2: Dict[str, float]) -> float:\n",
    "    \"\"\"\n",
    "    Compute the cosine similarity between two vectors\n",
    "    \"\"\"\n",
    "    dot_product = sum(vec1.get(word, 0) * vec2.get(word, 0) for word in set(vec1.keys()).union(vec2.keys()))\n",
    "    norm1 = sqrt(sum(val ** 2 for val in vec1.values()))\n",
    "    norm2 = sqrt(sum(val ** 2 for val in vec2.values()))\n",
    "    return dot_product / (norm1 * norm2)\n",
    "\n",
    "def tfidf(inverted_index: Dict[str, List[Tuple[int, int]]],\n",
    "           df: Dict[str, int],\n",
    "           Q: List[str],\n",
    "           DL: Dict[int, int],\n",
    "           limit=100) -> List[Tuple[int, float]]:\n",
    "    query_vec, doc_vecs = tfidf_vectors(inverted_index, df, Q, DL)\n",
    "    # compute the similarity between the query and each document\n",
    "    similarities = [(doc_id, cosine_similarity(query_vec, doc_vec)) for doc_id, doc_vec in doc_vecs.items()]\n",
    "    # sort the similarities in descending order and return the top 100 closest documents\n",
    "    similarities = sorted(similarities, key=lambda x: x[1], reverse=True)\n",
    "    return similarities[:limit]"
   ]
  },
  {
   "cell_type": "code",
   "execution_count": 22,
   "metadata": {},
   "outputs": [],
   "source": [
    "def tfidf_search(query, index, DL, n_results=100, with_stem=False):\n",
    "    # tokenize query\n",
    "    tokenized_query = search_master.tokenize(query, with_stem)\n",
    "    # get top 100 results\n",
    "    tokenized_query, pls = search_master.get_all_postings(index, tokenized_query)\n",
    "    top_n = tfidf(inverted_index=pls,\n",
    "                               df=index.df, \n",
    "                               Q=tokenized_query,\n",
    "                               DL=DL,\n",
    "                               limit=n_results)\n",
    "    \n",
    "    return top_n\n",
    "    \n",
    "search_master.tfidf_search =tfidf_search\n",
    "\n",
    "def bm25(inverted_index: Dict[str, List[Tuple[int, int]]],\n",
    "                df: Dict[str, int],\n",
    "                Q: List[str],\n",
    "                DL: Dict[int, int],\n",
    "                avdl: float,\n",
    "                N: int,\n",
    "                k1=1.2, b=0.75, limit=100) -> Dict[int,float]:\n",
    "\n",
    "    scores = Counter()\n",
    "    for word in Q:\n",
    "        for doc_id, tf in inverted_index.get(word, []):\n",
    "            dl = DL[doc_id]\n",
    "            n = df[word]\n",
    "            tf_weight = ( (k1+1) * tf ) / ( k1 * ( (1-b) + b * dl / avdl ) + tf )\n",
    "            idf_weight = log( (N-n+0.5) / (n+0.5) )\n",
    "            scores[doc_id] += tf_weight * idf_weight\n",
    "\n",
    "    return scores.most_common(limit)"
   ]
  },
  {
   "cell_type": "code",
   "execution_count": 23,
   "metadata": {},
   "outputs": [],
   "source": [
    "\n",
    "def bm25_search(query, index, DL, n_results=100, with_stem=False, expand=False):\n",
    "    # tokenize query\n",
    "    tokenized_query = self.tokenize(query, with_stem)\n",
    "    tokenized_query, pls = self.get_all_postings(index, tokenized_query)\n",
    "\n",
    "    if expand:\n",
    "        tokenized_query, pls = self.expand_query(tokenized_query, pls, index)\n",
    "        \n",
    "    top_n = bm25(inverted_index=pls,\n",
    "                               df=index.df, \n",
    "                               Q=tokenized_query,\n",
    "                               DL=DL,\n",
    "                               avdl= self.avdl,\n",
    "                               N = self.N,\n",
    "                               limit=n_results)\n",
    "\n",
    "    return top_n\n",
    "search_master.bm25_search = bm25_search"
   ]
  },
  {
   "cell_type": "code",
   "execution_count": 7,
   "metadata": {},
   "outputs": [],
   "source": [
    "self = search_master\n",
    "def all_search_results(query, n=100):\n",
    "    title_DL={doc_id:len(title) for doc_id, title in self.titles.items()}\n",
    "    text_DL=self.doc_length\n",
    "    # for testing\n",
    "    search_scores = dict()\n",
    "    search_scores['binary_title_weight']=self.binary_search(query, self.title_index).most_common(n)\n",
    "    search_scores['binary_anchor_weight']=self.binary_search(query, self.anchor_index).most_common(n)\n",
    "    search_scores['binary_body_weight']=self.binary_search(query, self.body_index).most_common(n)\n",
    "    search_scores['stem_binary_title_weight']=self.binary_search(query, self.stem_title_index, with_stem=True).most_common(n)\n",
    "    search_scores['stem_binary_body_weight']=self.binary_search(query, self.stem_body_index, with_stem=True).most_common(n)\n",
    "    search_scores['tfidf_text_weight']=self.tfidf_search(query, self.body_index, text_DL)\n",
    "    search_scores['tfidf_title_weight']=self.tfidf_search(query, self.title_index, title_DL)\n",
    "    search_scores['bm25_title_score']=self.bm25_search(query, self.title_index, title_DL)\n",
    "    search_scores['bm25_title_stem_score']=self.bm25_search(query, self.stem_title_index, title_DL, with_stem=True)\n",
    "    search_scores['bm25_text_score']=self.bm25_search(query, self.body_index, text_DL)\n",
    "    search_scores['bm25_text_stem_score']=self.bm25_search(query, self.stem_body_index, text_DL, with_stem=True)\n",
    "    return search_scores\n",
    "\n",
    "search_master.all_search_results =all_search_results"
   ]
  },
  {
   "cell_type": "code",
   "execution_count": 8,
   "metadata": {},
   "outputs": [],
   "source": [
    "results = {query:search_master.all_search_results(query) for query, _ in train}"
   ]
  },
  {
   "cell_type": "code",
   "execution_count": 9,
   "metadata": {},
   "outputs": [],
   "source": [
    "def average_precision(true_list, predicted_list, k=40):\n",
    "    true_set = frozenset(true_list)\n",
    "    predicted_list = predicted_list[:k]\n",
    "    precisions = []\n",
    "    for i, (doc_id, _) in enumerate(predicted_list):        \n",
    "        if doc_id in true_set:\n",
    "            prec = (len(precisions)+1) / (i+1)            \n",
    "            precisions.append(prec)\n",
    "        if i == 20:\n",
    "            break\n",
    "        \n",
    "    if len(precisions) == 0:\n",
    "        return 0.0\n",
    "    return round(sum(precisions)/len(precisions),3)"
   ]
  },
  {
   "cell_type": "code",
   "execution_count": 10,
   "metadata": {},
   "outputs": [],
   "source": [
    "acc_results = dict()\n",
    "for query, result in results.items():\n",
    "    method_acc = dict()\n",
    "    for method_name, prediction in result.items():\n",
    "        method_acc[method_name] = average_precision(queries[query], prediction)\n",
    "\n",
    "    acc_results[query] = method_acc       "
   ]
  },
  {
   "cell_type": "code",
   "execution_count": 11,
   "metadata": {},
   "outputs": [
    {
     "data": {
      "text/html": [
       "<style  type=\"text/css\" >\n",
       "#T_9e779_row0_col0,#T_9e779_row0_col3,#T_9e779_row0_col8,#T_9e779_row0_col9,#T_9e779_row1_col0,#T_9e779_row1_col1,#T_9e779_row1_col2,#T_9e779_row1_col3,#T_9e779_row1_col5,#T_9e779_row1_col6,#T_9e779_row1_col7,#T_9e779_row1_col9,#T_9e779_row1_col10,#T_9e779_row1_col11,#T_9e779_row2_col0,#T_9e779_row2_col1,#T_9e779_row2_col2,#T_9e779_row2_col3,#T_9e779_row2_col4,#T_9e779_row2_col5,#T_9e779_row2_col6,#T_9e779_row2_col7,#T_9e779_row2_col8,#T_9e779_row2_col9,#T_9e779_row2_col10,#T_9e779_row2_col11,#T_9e779_row2_col12,#T_9e779_row3_col0,#T_9e779_row3_col3,#T_9e779_row3_col9,#T_9e779_row4_col0,#T_9e779_row4_col1,#T_9e779_row4_col2,#T_9e779_row4_col3,#T_9e779_row4_col4,#T_9e779_row4_col5,#T_9e779_row4_col6,#T_9e779_row4_col7,#T_9e779_row4_col8,#T_9e779_row4_col9,#T_9e779_row4_col10,#T_9e779_row4_col11,#T_9e779_row4_col12,#T_9e779_row5_col0,#T_9e779_row5_col1,#T_9e779_row5_col2,#T_9e779_row5_col3,#T_9e779_row5_col4,#T_9e779_row5_col5,#T_9e779_row5_col6,#T_9e779_row5_col7,#T_9e779_row5_col8,#T_9e779_row5_col9,#T_9e779_row5_col10,#T_9e779_row5_col11,#T_9e779_row5_col12,#T_9e779_row6_col0,#T_9e779_row6_col3,#T_9e779_row6_col8,#T_9e779_row6_col10,#T_9e779_row7_col0,#T_9e779_row7_col3,#T_9e779_row7_col7,#T_9e779_row7_col8,#T_9e779_row7_col9,#T_9e779_row7_col10,#T_9e779_row8_col0,#T_9e779_row8_col1,#T_9e779_row8_col6,#T_9e779_row8_col7,#T_9e779_row8_col9,#T_9e779_row8_col10,#T_9e779_row9_col1,#T_9e779_row9_col4,#T_9e779_row9_col7,#T_9e779_row9_col10,#T_9e779_row10_col1,#T_9e779_row10_col3,#T_9e779_row10_col6,#T_9e779_row10_col7{\n",
       "            background-color:  #f7fbff;\n",
       "            color:  #000000;\n",
       "        }#T_9e779_row0_col1{\n",
       "            background-color:  #87bddc;\n",
       "            color:  #000000;\n",
       "        }#T_9e779_row0_col2{\n",
       "            background-color:  #084387;\n",
       "            color:  #f1f1f1;\n",
       "        }#T_9e779_row0_col4,#T_9e779_row3_col4{\n",
       "            background-color:  #c6dbef;\n",
       "            color:  #000000;\n",
       "        }#T_9e779_row0_col5,#T_9e779_row0_col6,#T_9e779_row0_col7,#T_9e779_row0_col10,#T_9e779_row0_col11,#T_9e779_row1_col8,#T_9e779_row3_col5,#T_9e779_row3_col7,#T_9e779_row3_col8,#T_9e779_row3_col11,#T_9e779_row3_col12,#T_9e779_row6_col5,#T_9e779_row6_col6,#T_9e779_row6_col11,#T_9e779_row7_col1,#T_9e779_row7_col4,#T_9e779_row8_col4,#T_9e779_row9_col3,#T_9e779_row10_col0,#T_9e779_row10_col2,#T_9e779_row10_col4,#T_9e779_row10_col9{\n",
       "            background-color:  #08306b;\n",
       "            color:  #f1f1f1;\n",
       "        }#T_9e779_row0_col12{\n",
       "            background-color:  #0c56a0;\n",
       "            color:  #f1f1f1;\n",
       "        }#T_9e779_row1_col4{\n",
       "            background-color:  #caddf0;\n",
       "            color:  #000000;\n",
       "        }#T_9e779_row1_col12{\n",
       "            background-color:  #bdd7ec;\n",
       "            color:  #000000;\n",
       "        }#T_9e779_row3_col1{\n",
       "            background-color:  #3e8ec4;\n",
       "            color:  #000000;\n",
       "        }#T_9e779_row3_col2{\n",
       "            background-color:  #09529d;\n",
       "            color:  #f1f1f1;\n",
       "        }#T_9e779_row3_col6{\n",
       "            background-color:  #3a8ac2;\n",
       "            color:  #000000;\n",
       "        }#T_9e779_row3_col10{\n",
       "            background-color:  #0b559f;\n",
       "            color:  #f1f1f1;\n",
       "        }#T_9e779_row6_col1{\n",
       "            background-color:  #084a91;\n",
       "            color:  #f1f1f1;\n",
       "        }#T_9e779_row6_col2{\n",
       "            background-color:  #08478d;\n",
       "            color:  #f1f1f1;\n",
       "        }#T_9e779_row6_col4{\n",
       "            background-color:  #4191c6;\n",
       "            color:  #000000;\n",
       "        }#T_9e779_row6_col7{\n",
       "            background-color:  #08488e;\n",
       "            color:  #f1f1f1;\n",
       "        }#T_9e779_row6_col9{\n",
       "            background-color:  #97c6df;\n",
       "            color:  #000000;\n",
       "        }#T_9e779_row6_col12{\n",
       "            background-color:  #1460a8;\n",
       "            color:  #f1f1f1;\n",
       "        }#T_9e779_row7_col2{\n",
       "            background-color:  #6fb0d7;\n",
       "            color:  #000000;\n",
       "        }#T_9e779_row7_col5,#T_9e779_row8_col5{\n",
       "            background-color:  #8dc1dd;\n",
       "            color:  #000000;\n",
       "        }#T_9e779_row7_col6{\n",
       "            background-color:  #105ba4;\n",
       "            color:  #f1f1f1;\n",
       "        }#T_9e779_row7_col11,#T_9e779_row8_col11{\n",
       "            background-color:  #9dcae1;\n",
       "            color:  #000000;\n",
       "        }#T_9e779_row7_col12{\n",
       "            background-color:  #65aad4;\n",
       "            color:  #000000;\n",
       "        }#T_9e779_row8_col2{\n",
       "            background-color:  #85bcdc;\n",
       "            color:  #000000;\n",
       "        }#T_9e779_row8_col3,#T_9e779_row9_col8{\n",
       "            background-color:  #57a0ce;\n",
       "            color:  #000000;\n",
       "        }#T_9e779_row8_col8{\n",
       "            background-color:  #6caed6;\n",
       "            color:  #000000;\n",
       "        }#T_9e779_row8_col12{\n",
       "            background-color:  #77b5d9;\n",
       "            color:  #000000;\n",
       "        }#T_9e779_row9_col0{\n",
       "            background-color:  #083a7a;\n",
       "            color:  #f1f1f1;\n",
       "        }#T_9e779_row9_col2{\n",
       "            background-color:  #a4cce3;\n",
       "            color:  #000000;\n",
       "        }#T_9e779_row9_col5,#T_9e779_row10_col5{\n",
       "            background-color:  #afd1e7;\n",
       "            color:  #000000;\n",
       "        }#T_9e779_row9_col6{\n",
       "            background-color:  #dfecf7;\n",
       "            color:  #000000;\n",
       "        }#T_9e779_row9_col9{\n",
       "            background-color:  #4d99ca;\n",
       "            color:  #000000;\n",
       "        }#T_9e779_row9_col11,#T_9e779_row10_col11{\n",
       "            background-color:  #3c8cc3;\n",
       "            color:  #000000;\n",
       "        }#T_9e779_row9_col12{\n",
       "            background-color:  #a5cde3;\n",
       "            color:  #000000;\n",
       "        }#T_9e779_row10_col8{\n",
       "            background-color:  #60a7d2;\n",
       "            color:  #000000;\n",
       "        }#T_9e779_row10_col10{\n",
       "            background-color:  #a3cce3;\n",
       "            color:  #000000;\n",
       "        }#T_9e779_row10_col12{\n",
       "            background-color:  #3d8dc4;\n",
       "            color:  #000000;\n",
       "        }</style><table id=\"T_9e779_\" title='Query Performance'><thead>    <tr>        <th class=\"blank level0\" ></th>        <th class=\"col_heading level0 col0\" >best marvel movie</th>        <th class=\"col_heading level0 col1\" >How do kids come to world?</th>        <th class=\"col_heading level0 col2\" >How to make coffee?</th>        <th class=\"col_heading level0 col3\" >How to make wine at home?</th>        <th class=\"col_heading level0 col4\" >Most expensive city in the world</th>        <th class=\"col_heading level0 col5\" >India</th>        <th class=\"col_heading level0 col6\" >The Simpsons</th>        <th class=\"col_heading level0 col7\" >World cup</th>        <th class=\"col_heading level0 col8\" >How to lose weight?</th>        <th class=\"col_heading level0 col9\" >how to deal with depression?</th>        <th class=\"col_heading level0 col10\" >How do you make gold</th>        <th class=\"col_heading level0 col11\" >Marijuana</th>        <th class=\"col_heading level0 col12\" >MAP@40</th>    </tr></thead><tbody>\n",
       "                <tr>\n",
       "                        <th id=\"T_9e779_level0_row0\" class=\"row_heading level0 row0\" >binary_title_weight</th>\n",
       "                        <td id=\"T_9e779_row0_col0\" class=\"data row0 col0\" >0.00</td>\n",
       "                        <td id=\"T_9e779_row0_col1\" class=\"data row0 col1\" >0.05</td>\n",
       "                        <td id=\"T_9e779_row0_col2\" class=\"data row0 col2\" >0.32</td>\n",
       "                        <td id=\"T_9e779_row0_col3\" class=\"data row0 col3\" >0.00</td>\n",
       "                        <td id=\"T_9e779_row0_col4\" class=\"data row0 col4\" >0.25</td>\n",
       "                        <td id=\"T_9e779_row0_col5\" class=\"data row0 col5\" >0.37</td>\n",
       "                        <td id=\"T_9e779_row0_col6\" class=\"data row0 col6\" >0.77</td>\n",
       "                        <td id=\"T_9e779_row0_col7\" class=\"data row0 col7\" >0.86</td>\n",
       "                        <td id=\"T_9e779_row0_col8\" class=\"data row0 col8\" >0.00</td>\n",
       "                        <td id=\"T_9e779_row0_col9\" class=\"data row0 col9\" >0.00</td>\n",
       "                        <td id=\"T_9e779_row0_col10\" class=\"data row0 col10\" >0.58</td>\n",
       "                        <td id=\"T_9e779_row0_col11\" class=\"data row0 col11\" >0.56</td>\n",
       "                        <td id=\"T_9e779_row0_col12\" class=\"data row0 col12\" >0.31</td>\n",
       "            </tr>\n",
       "            <tr>\n",
       "                        <th id=\"T_9e779_level0_row1\" class=\"row_heading level0 row1\" >binary_anchor_weight</th>\n",
       "                        <td id=\"T_9e779_row1_col0\" class=\"data row1 col0\" >0.00</td>\n",
       "                        <td id=\"T_9e779_row1_col1\" class=\"data row1 col1\" >0.00</td>\n",
       "                        <td id=\"T_9e779_row1_col2\" class=\"data row1 col2\" >0.00</td>\n",
       "                        <td id=\"T_9e779_row1_col3\" class=\"data row1 col3\" >0.00</td>\n",
       "                        <td id=\"T_9e779_row1_col4\" class=\"data row1 col4\" >0.23</td>\n",
       "                        <td id=\"T_9e779_row1_col5\" class=\"data row1 col5\" >0.00</td>\n",
       "                        <td id=\"T_9e779_row1_col6\" class=\"data row1 col6\" >0.00</td>\n",
       "                        <td id=\"T_9e779_row1_col7\" class=\"data row1 col7\" >0.00</td>\n",
       "                        <td id=\"T_9e779_row1_col8\" class=\"data row1 col8\" >1.00</td>\n",
       "                        <td id=\"T_9e779_row1_col9\" class=\"data row1 col9\" >0.00</td>\n",
       "                        <td id=\"T_9e779_row1_col10\" class=\"data row1 col10\" >0.00</td>\n",
       "                        <td id=\"T_9e779_row1_col11\" class=\"data row1 col11\" >0.00</td>\n",
       "                        <td id=\"T_9e779_row1_col12\" class=\"data row1 col12\" >0.10</td>\n",
       "            </tr>\n",
       "            <tr>\n",
       "                        <th id=\"T_9e779_level0_row2\" class=\"row_heading level0 row2\" >binary_body_weight</th>\n",
       "                        <td id=\"T_9e779_row2_col0\" class=\"data row2 col0\" >0.00</td>\n",
       "                        <td id=\"T_9e779_row2_col1\" class=\"data row2 col1\" >0.00</td>\n",
       "                        <td id=\"T_9e779_row2_col2\" class=\"data row2 col2\" >0.00</td>\n",
       "                        <td id=\"T_9e779_row2_col3\" class=\"data row2 col3\" >0.00</td>\n",
       "                        <td id=\"T_9e779_row2_col4\" class=\"data row2 col4\" >0.00</td>\n",
       "                        <td id=\"T_9e779_row2_col5\" class=\"data row2 col5\" >0.00</td>\n",
       "                        <td id=\"T_9e779_row2_col6\" class=\"data row2 col6\" >0.00</td>\n",
       "                        <td id=\"T_9e779_row2_col7\" class=\"data row2 col7\" >0.00</td>\n",
       "                        <td id=\"T_9e779_row2_col8\" class=\"data row2 col8\" >0.00</td>\n",
       "                        <td id=\"T_9e779_row2_col9\" class=\"data row2 col9\" >0.00</td>\n",
       "                        <td id=\"T_9e779_row2_col10\" class=\"data row2 col10\" >0.00</td>\n",
       "                        <td id=\"T_9e779_row2_col11\" class=\"data row2 col11\" >0.00</td>\n",
       "                        <td id=\"T_9e779_row2_col12\" class=\"data row2 col12\" >0.00</td>\n",
       "            </tr>\n",
       "            <tr>\n",
       "                        <th id=\"T_9e779_level0_row3\" class=\"row_heading level0 row3\" >stem_binary_title_weight</th>\n",
       "                        <td id=\"T_9e779_row3_col0\" class=\"data row3 col0\" >0.00</td>\n",
       "                        <td id=\"T_9e779_row3_col1\" class=\"data row3 col1\" >0.07</td>\n",
       "                        <td id=\"T_9e779_row3_col2\" class=\"data row3 col2\" >0.29</td>\n",
       "                        <td id=\"T_9e779_row3_col3\" class=\"data row3 col3\" >0.00</td>\n",
       "                        <td id=\"T_9e779_row3_col4\" class=\"data row3 col4\" >0.25</td>\n",
       "                        <td id=\"T_9e779_row3_col5\" class=\"data row3 col5\" >0.37</td>\n",
       "                        <td id=\"T_9e779_row3_col6\" class=\"data row3 col6\" >0.50</td>\n",
       "                        <td id=\"T_9e779_row3_col7\" class=\"data row3 col7\" >0.86</td>\n",
       "                        <td id=\"T_9e779_row3_col8\" class=\"data row3 col8\" >1.00</td>\n",
       "                        <td id=\"T_9e779_row3_col9\" class=\"data row3 col9\" >0.00</td>\n",
       "                        <td id=\"T_9e779_row3_col10\" class=\"data row3 col10\" >0.50</td>\n",
       "                        <td id=\"T_9e779_row3_col11\" class=\"data row3 col11\" >0.56</td>\n",
       "                        <td id=\"T_9e779_row3_col12\" class=\"data row3 col12\" >0.37</td>\n",
       "            </tr>\n",
       "            <tr>\n",
       "                        <th id=\"T_9e779_level0_row4\" class=\"row_heading level0 row4\" >stem_binary_body_weight</th>\n",
       "                        <td id=\"T_9e779_row4_col0\" class=\"data row4 col0\" >0.00</td>\n",
       "                        <td id=\"T_9e779_row4_col1\" class=\"data row4 col1\" >0.00</td>\n",
       "                        <td id=\"T_9e779_row4_col2\" class=\"data row4 col2\" >0.00</td>\n",
       "                        <td id=\"T_9e779_row4_col3\" class=\"data row4 col3\" >0.00</td>\n",
       "                        <td id=\"T_9e779_row4_col4\" class=\"data row4 col4\" >0.00</td>\n",
       "                        <td id=\"T_9e779_row4_col5\" class=\"data row4 col5\" >0.00</td>\n",
       "                        <td id=\"T_9e779_row4_col6\" class=\"data row4 col6\" >0.00</td>\n",
       "                        <td id=\"T_9e779_row4_col7\" class=\"data row4 col7\" >0.00</td>\n",
       "                        <td id=\"T_9e779_row4_col8\" class=\"data row4 col8\" >0.00</td>\n",
       "                        <td id=\"T_9e779_row4_col9\" class=\"data row4 col9\" >0.00</td>\n",
       "                        <td id=\"T_9e779_row4_col10\" class=\"data row4 col10\" >0.00</td>\n",
       "                        <td id=\"T_9e779_row4_col11\" class=\"data row4 col11\" >0.00</td>\n",
       "                        <td id=\"T_9e779_row4_col12\" class=\"data row4 col12\" >0.00</td>\n",
       "            </tr>\n",
       "            <tr>\n",
       "                        <th id=\"T_9e779_level0_row5\" class=\"row_heading level0 row5\" >tfidf_text_weight</th>\n",
       "                        <td id=\"T_9e779_row5_col0\" class=\"data row5 col0\" >0.00</td>\n",
       "                        <td id=\"T_9e779_row5_col1\" class=\"data row5 col1\" >0.00</td>\n",
       "                        <td id=\"T_9e779_row5_col2\" class=\"data row5 col2\" >0.00</td>\n",
       "                        <td id=\"T_9e779_row5_col3\" class=\"data row5 col3\" >0.00</td>\n",
       "                        <td id=\"T_9e779_row5_col4\" class=\"data row5 col4\" >0.00</td>\n",
       "                        <td id=\"T_9e779_row5_col5\" class=\"data row5 col5\" >0.00</td>\n",
       "                        <td id=\"T_9e779_row5_col6\" class=\"data row5 col6\" >0.00</td>\n",
       "                        <td id=\"T_9e779_row5_col7\" class=\"data row5 col7\" >0.00</td>\n",
       "                        <td id=\"T_9e779_row5_col8\" class=\"data row5 col8\" >0.00</td>\n",
       "                        <td id=\"T_9e779_row5_col9\" class=\"data row5 col9\" >0.00</td>\n",
       "                        <td id=\"T_9e779_row5_col10\" class=\"data row5 col10\" >0.00</td>\n",
       "                        <td id=\"T_9e779_row5_col11\" class=\"data row5 col11\" >0.00</td>\n",
       "                        <td id=\"T_9e779_row5_col12\" class=\"data row5 col12\" >0.00</td>\n",
       "            </tr>\n",
       "            <tr>\n",
       "                        <th id=\"T_9e779_level0_row6\" class=\"row_heading level0 row6\" >tfidf_title_weight</th>\n",
       "                        <td id=\"T_9e779_row6_col0\" class=\"data row6 col0\" >0.00</td>\n",
       "                        <td id=\"T_9e779_row6_col1\" class=\"data row6 col1\" >0.10</td>\n",
       "                        <td id=\"T_9e779_row6_col2\" class=\"data row6 col2\" >0.31</td>\n",
       "                        <td id=\"T_9e779_row6_col3\" class=\"data row6 col3\" >0.00</td>\n",
       "                        <td id=\"T_9e779_row6_col4\" class=\"data row6 col4\" >0.62</td>\n",
       "                        <td id=\"T_9e779_row6_col5\" class=\"data row6 col5\" >0.37</td>\n",
       "                        <td id=\"T_9e779_row6_col6\" class=\"data row6 col6\" >0.77</td>\n",
       "                        <td id=\"T_9e779_row6_col7\" class=\"data row6 col7\" >0.78</td>\n",
       "                        <td id=\"T_9e779_row6_col8\" class=\"data row6 col8\" >0.00</td>\n",
       "                        <td id=\"T_9e779_row6_col9\" class=\"data row6 col9\" >0.08</td>\n",
       "                        <td id=\"T_9e779_row6_col10\" class=\"data row6 col10\" >0.00</td>\n",
       "                        <td id=\"T_9e779_row6_col11\" class=\"data row6 col11\" >0.56</td>\n",
       "                        <td id=\"T_9e779_row6_col12\" class=\"data row6 col12\" >0.30</td>\n",
       "            </tr>\n",
       "            <tr>\n",
       "                        <th id=\"T_9e779_level0_row7\" class=\"row_heading level0 row7\" >bm25_title_score</th>\n",
       "                        <td id=\"T_9e779_row7_col0\" class=\"data row7 col0\" >0.00</td>\n",
       "                        <td id=\"T_9e779_row7_col1\" class=\"data row7 col1\" >0.11</td>\n",
       "                        <td id=\"T_9e779_row7_col2\" class=\"data row7 col2\" >0.17</td>\n",
       "                        <td id=\"T_9e779_row7_col3\" class=\"data row7 col3\" >0.00</td>\n",
       "                        <td id=\"T_9e779_row7_col4\" class=\"data row7 col4\" >1.00</td>\n",
       "                        <td id=\"T_9e779_row7_col5\" class=\"data row7 col5\" >0.15</td>\n",
       "                        <td id=\"T_9e779_row7_col6\" class=\"data row7 col6\" >0.64</td>\n",
       "                        <td id=\"T_9e779_row7_col7\" class=\"data row7 col7\" >0.00</td>\n",
       "                        <td id=\"T_9e779_row7_col8\" class=\"data row7 col8\" >0.00</td>\n",
       "                        <td id=\"T_9e779_row7_col9\" class=\"data row7 col9\" >0.00</td>\n",
       "                        <td id=\"T_9e779_row7_col10\" class=\"data row7 col10\" >0.00</td>\n",
       "                        <td id=\"T_9e779_row7_col11\" class=\"data row7 col11\" >0.21</td>\n",
       "                        <td id=\"T_9e779_row7_col12\" class=\"data row7 col12\" >0.19</td>\n",
       "            </tr>\n",
       "            <tr>\n",
       "                        <th id=\"T_9e779_level0_row8\" class=\"row_heading level0 row8\" >bm25_title_stem_score</th>\n",
       "                        <td id=\"T_9e779_row8_col0\" class=\"data row8 col0\" >0.00</td>\n",
       "                        <td id=\"T_9e779_row8_col1\" class=\"data row8 col1\" >0.00</td>\n",
       "                        <td id=\"T_9e779_row8_col2\" class=\"data row8 col2\" >0.15</td>\n",
       "                        <td id=\"T_9e779_row8_col3\" class=\"data row8 col3\" >0.07</td>\n",
       "                        <td id=\"T_9e779_row8_col4\" class=\"data row8 col4\" >1.00</td>\n",
       "                        <td id=\"T_9e779_row8_col5\" class=\"data row8 col5\" >0.15</td>\n",
       "                        <td id=\"T_9e779_row8_col6\" class=\"data row8 col6\" >0.00</td>\n",
       "                        <td id=\"T_9e779_row8_col7\" class=\"data row8 col7\" >0.00</td>\n",
       "                        <td id=\"T_9e779_row8_col8\" class=\"data row8 col8\" >0.50</td>\n",
       "                        <td id=\"T_9e779_row8_col9\" class=\"data row8 col9\" >0.00</td>\n",
       "                        <td id=\"T_9e779_row8_col10\" class=\"data row8 col10\" >0.00</td>\n",
       "                        <td id=\"T_9e779_row8_col11\" class=\"data row8 col11\" >0.21</td>\n",
       "                        <td id=\"T_9e779_row8_col12\" class=\"data row8 col12\" >0.17</td>\n",
       "            </tr>\n",
       "            <tr>\n",
       "                        <th id=\"T_9e779_level0_row9\" class=\"row_heading level0 row9\" >bm25_text_score</th>\n",
       "                        <td id=\"T_9e779_row9_col0\" class=\"data row9 col0\" >0.05</td>\n",
       "                        <td id=\"T_9e779_row9_col1\" class=\"data row9 col1\" >0.00</td>\n",
       "                        <td id=\"T_9e779_row9_col2\" class=\"data row9 col2\" >0.12</td>\n",
       "                        <td id=\"T_9e779_row9_col3\" class=\"data row9 col3\" >0.13</td>\n",
       "                        <td id=\"T_9e779_row9_col4\" class=\"data row9 col4\" >0.00</td>\n",
       "                        <td id=\"T_9e779_row9_col5\" class=\"data row9 col5\" >0.12</td>\n",
       "                        <td id=\"T_9e779_row9_col6\" class=\"data row9 col6\" >0.09</td>\n",
       "                        <td id=\"T_9e779_row9_col7\" class=\"data row9 col7\" >0.00</td>\n",
       "                        <td id=\"T_9e779_row9_col8\" class=\"data row9 col8\" >0.56</td>\n",
       "                        <td id=\"T_9e779_row9_col9\" class=\"data row9 col9\" >0.12</td>\n",
       "                        <td id=\"T_9e779_row9_col10\" class=\"data row9 col10\" >0.00</td>\n",
       "                        <td id=\"T_9e779_row9_col11\" class=\"data row9 col11\" >0.36</td>\n",
       "                        <td id=\"T_9e779_row9_col12\" class=\"data row9 col12\" >0.13</td>\n",
       "            </tr>\n",
       "            <tr>\n",
       "                        <th id=\"T_9e779_level0_row10\" class=\"row_heading level0 row10\" >bm25_text_stem_score</th>\n",
       "                        <td id=\"T_9e779_row10_col0\" class=\"data row10 col0\" >0.05</td>\n",
       "                        <td id=\"T_9e779_row10_col1\" class=\"data row10 col1\" >0.00</td>\n",
       "                        <td id=\"T_9e779_row10_col2\" class=\"data row10 col2\" >0.34</td>\n",
       "                        <td id=\"T_9e779_row10_col3\" class=\"data row10 col3\" >0.00</td>\n",
       "                        <td id=\"T_9e779_row10_col4\" class=\"data row10 col4\" >1.00</td>\n",
       "                        <td id=\"T_9e779_row10_col5\" class=\"data row10 col5\" >0.12</td>\n",
       "                        <td id=\"T_9e779_row10_col6\" class=\"data row10 col6\" >0.00</td>\n",
       "                        <td id=\"T_9e779_row10_col7\" class=\"data row10 col7\" >0.00</td>\n",
       "                        <td id=\"T_9e779_row10_col8\" class=\"data row10 col8\" >0.54</td>\n",
       "                        <td id=\"T_9e779_row10_col9\" class=\"data row10 col9\" >0.21</td>\n",
       "                        <td id=\"T_9e779_row10_col10\" class=\"data row10 col10\" >0.21</td>\n",
       "                        <td id=\"T_9e779_row10_col11\" class=\"data row10 col11\" >0.36</td>\n",
       "                        <td id=\"T_9e779_row10_col12\" class=\"data row10 col12\" >0.24</td>\n",
       "            </tr>\n",
       "    </tbody></table>"
      ],
      "text/plain": [
       "<pandas.io.formats.style.Styler at 0x7f58ce4a7340>"
      ]
     },
     "execution_count": 11,
     "metadata": {},
     "output_type": "execute_result"
    }
   ],
   "source": [
    "pd.options.display.float_format = '{:,.2f}'.format\n",
    "df = pd.DataFrame(acc_results)\n",
    "df = df.drop(['how to make money fast?', 'LinkedIn','Information retrieval', 'Ritalin', 'Java', 'Netflix', 'Air Jordan', 'Apple computer'], axis=1)\n",
    "df['MAP@40'] = df.mean(axis=1)\n",
    "df.style.background_gradient(cmap='Blues').set_precision(2).set_table_attributes(\"title='Query Performance'\")"
   ]
  },
  {
   "cell_type": "code",
   "execution_count": 12,
   "metadata": {},
   "outputs": [
    {
     "data": {
      "image/png": "[encoded data removed]",
      "text/plain": [
       "<Figure size 800x600 with 1 Axes>"
      ]
     },
     "metadata": {},
     "output_type": "display_data"
    }
   ],
   "source": [
    "import matplotlib.pyplot as plt\n",
    "plt.figure(figsize=(8, 6))\n",
    "plt.barh(df.index, df['MAP@40'])\n",
    "plt.xlabel('MAP@40')\n",
    "plt.ylabel('Method')\n",
    "plt.title('MAP score of Basic methods')\n",
    "plt.xticks(rotation=45)\n",
    "plt.show()"
   ]
  },
  {
   "cell_type": "markdown",
   "metadata": {},
   "source": [
    "## validate"
   ]
  },
  {
   "cell_type": "code",
   "execution_count": 128,
   "metadata": {},
   "outputs": [],
   "source": [
    "from operator import itemgetter\n",
    "self =search_master\n",
    "def adjust_model(weights=[0.01, 0.01, 0.0001, 1], top_n=10):\n",
    "    def normalize_result(scores):\n",
    "        normalized = []\n",
    "        if scores:\n",
    "            max_value = max(scores, key=lambda x: x[1])[1]\n",
    "            normalized = [(key, value/max_value) for key, value in scores]\n",
    "        return normalized\n",
    "\n",
    "    def best_search(query, weights=weights, top_n=top_n):\n",
    "        # get search results\n",
    "        with concurrent.futures.ThreadPoolExecutor(max_workers=8) as executor:\n",
    "            jobs = [executor.submit(search_master.binary_search, query, search_master.stem_title_index, with_stem=True, expand=True),\n",
    "                    executor.submit(search_master.bm25_search, query, search_master.stem_body_index, \n",
    "                                    search_master.doc_length, with_stem=True, expand=True)]\n",
    "\n",
    "            results = [job.result() for job in jobs]\n",
    "            results[0] =results[0].most_common(20)\n",
    "            results = [normalize_result(res[:20]) for res in results]\n",
    "        # merge searchs\n",
    "        results = search_master.merge(results, weights)\n",
    "        # return top n results\n",
    "        return search_master.result_w_title([doc_id for doc_id, score in results[:top_n]])\n",
    "\n",
    "    search_master.best_search = best_search\n",
    "    \n",
    "    def merge(results, weights):\n",
    "        # Create a dictionary to store the sum of scores for each id\n",
    "        doc_scores = defaultdict(float)\n",
    "        for i, result in enumerate(results):\n",
    "            for id, score in result:\n",
    "                doc_scores[id] += score * weights[i]\n",
    "\n",
    "        top_results = dict(sorted(doc_scores.items(), key=itemgetter(1), reverse=True)[:150])\n",
    "\n",
    "        page_rank = self.page_rank\n",
    "        page_views = self.page_views\n",
    "        for doc_id in top_results.keys():\n",
    "            top_results[doc_id] += weights[-2] * page_rank.get(doc_id, 1) + weights[-1] * page_views.get(doc_id, 1)\n",
    "\n",
    "        return sorted(top_results.items(), key=itemgetter(1), reverse=True)\n",
    "    \n",
    "    search_master.merge = merge"
   ]
  },
  {
   "cell_type": "code",
   "execution_count": 7,
   "metadata": {},
   "outputs": [
    {
     "name": "stdout",
     "output_type": "stream",
     "text": [
      "good Prediction for query \"best marvel movie\" (ap = 1.0))\n",
      "good Prediction for query \"How do kids come to world?\" (ap = 1.0))\n",
      "good Prediction for query \"Information retrieval\" (ap = 1.0))\n",
      "good Prediction for query \"LinkedIn\" (ap = 1.0))\n",
      "bad brediction for query \"How to make wine at home?\" (ap = 0.0))\n",
      "bad brediction for query \"Most expensive city in the world\" (ap = 0.294))\n",
      "good Prediction for query \"Java\" (ap = 1.0))\n",
      "bad brediction for query \"how to deal with depression?\" (ap = 0.0))\n",
      "bad brediction for query \"How do you make gold\" (ap = 0.183))\n",
      "good Prediction for query \"How to make hummus\" (ap = 1.0))\n",
      "good Prediction for query \"Natural Language processing\" (ap = 1.0))\n",
      "good Prediction for query \"World Cup 2022\" (ap = 1.0))\n",
      "good Prediction for query \"Dolly the sheep\" (ap = 0.963))\n",
      "bad brediction for query \"Ciggarets\" (ap = 0.0))\n",
      "bad brediction for query \"What is the best place to live in?\" (ap = 0.0))\n",
      "bad brediction for query \"How do you breed flowers?\" (ap = 0.2))\n",
      "map@40: 0.6983333333333334\n",
      "Avg Time: 1.6119454463322958\n",
      "\n"
     ]
    }
   ],
   "source": [
    "\n",
    "results = []\n",
    "times = []\n",
    "for query, true_list in queries.items():\n",
    "    start = time()\n",
    "    res = search_master.best_search(query)\n",
    "    total_time = time() - start\n",
    "    ap = average_precision(true_list, res)\n",
    "    results.append(average_precision(true_list, res)) \n",
    "    times.append(total_time)\n",
    "    if ap <= 0.35:\n",
    "        print(f'bad Prediction for query \"{query}\" (ap = {ap}))')\n",
    "    elif ap >= 0.95:\n",
    "        print(f'good Prediction for query \"{query}\" (ap = {ap}))')\n",
    "        \n",
    "        \n",
    "\n",
    "score=np.mean(results)\n",
    "avg_time=np.mean(times)\n",
    "print(f'map@40: {score}\\nAvg Time: {avg_time}\\n')\n",
    "    \n"
   ]
  },
  {
   "cell_type": "code",
   "execution_count": 7,
   "metadata": {},
   "outputs": [],
   "source": [
    "# quality check\n",
    "self =search_master\n",
    "\n",
    "def quality(query, weights=[0.01, 0.01, 0.0001, 1], top_n=10):\n",
    "    # get search results\n",
    "    with concurrent.futures.ThreadPoolExecutor(max_workers=8) as executor:\n",
    "        jobs = [executor.submit(search_master.binary_search, query, search_master.stem_title_index, with_stem=True, expand=True),\n",
    "                executor.submit(search_master.bm25_search, query, search_master.stem_body_index, \n",
    "                                search_master.doc_length, with_stem=True, expand=True)]\n",
    "\n",
    "        results = [job.result() for job in jobs]\n",
    "        results[0] =results[0].most_common(20)\n",
    "        results = [self.normalize_result(res[:20]) for res in results]\n",
    "    # merge searchs\n",
    "    best = search_master.merge(results, weights)\n",
    "    # return top n results\n",
    "    results = [dict(res) for res in results]\n",
    "    info = dict()\n",
    "    for doc_id, score in best:\n",
    "        binary = results[0].get(doc_id, 0)\n",
    "        bm25 = results[1].get(doc_id, 0)\n",
    "        title =  self.titles[doc_id]\n",
    "        pv = self.page_views[doc_id]\n",
    "        pr = self.page_rank[doc_id]\n",
    "        info[title] = {'binary score':binary, 'bm25 score':bm25, 'page_views':int(pv*181126232), 'page rank':pr*9913, 'total score':score*100}\n",
    "    return info  \n",
    "self.quality = quality\n"
   ]
  },
  {
   "cell_type": "code",
   "execution_count": 8,
   "metadata": {},
   "outputs": [
    {
     "data": {
      "text/html": [
       "<style  type=\"text/css\" >\n",
       "#T_7be3d_row0_col0,#T_7be3d_row0_col2,#T_7be3d_row0_col4,#T_7be3d_row1_col0,#T_7be3d_row2_col0,#T_7be3d_row3_col0,#T_7be3d_row3_col3,#T_7be3d_row4_col0,#T_7be3d_row5_col0,#T_7be3d_row6_col0,#T_7be3d_row7_col0,#T_7be3d_row8_col0,#T_7be3d_row9_col1,#T_7be3d_row10_col0,#T_7be3d_row11_col0,#T_7be3d_row12_col0,#T_7be3d_row13_col0,#T_7be3d_row14_col0{\n",
       "            background-color:  #08306b;\n",
       "            color:  #f1f1f1;\n",
       "        }#T_7be3d_row0_col1,#T_7be3d_row1_col1,#T_7be3d_row2_col1,#T_7be3d_row3_col1,#T_7be3d_row4_col1,#T_7be3d_row5_col1,#T_7be3d_row6_col1,#T_7be3d_row6_col2,#T_7be3d_row6_col3,#T_7be3d_row6_col4,#T_7be3d_row7_col1,#T_7be3d_row7_col2,#T_7be3d_row7_col4,#T_7be3d_row8_col1,#T_7be3d_row8_col2,#T_7be3d_row8_col4,#T_7be3d_row9_col0,#T_7be3d_row9_col2,#T_7be3d_row9_col4,#T_7be3d_row10_col1,#T_7be3d_row10_col2,#T_7be3d_row10_col4,#T_7be3d_row11_col1,#T_7be3d_row11_col2,#T_7be3d_row11_col4,#T_7be3d_row12_col1,#T_7be3d_row12_col2,#T_7be3d_row12_col4,#T_7be3d_row13_col1,#T_7be3d_row13_col2,#T_7be3d_row13_col3,#T_7be3d_row13_col4,#T_7be3d_row14_col1,#T_7be3d_row14_col2,#T_7be3d_row14_col4{\n",
       "            background-color:  #f7fbff;\n",
       "            color:  #000000;\n",
       "        }#T_7be3d_row0_col3{\n",
       "            background-color:  #eef5fc;\n",
       "            color:  #000000;\n",
       "        }#T_7be3d_row1_col2,#T_7be3d_row1_col4{\n",
       "            background-color:  #f1f7fd;\n",
       "            color:  #000000;\n",
       "        }#T_7be3d_row1_col3{\n",
       "            background-color:  #81badb;\n",
       "            color:  #000000;\n",
       "        }#T_7be3d_row2_col2,#T_7be3d_row2_col4{\n",
       "            background-color:  #f5fafe;\n",
       "            color:  #000000;\n",
       "        }#T_7be3d_row2_col3{\n",
       "            background-color:  #eaf3fb;\n",
       "            color:  #000000;\n",
       "        }#T_7be3d_row3_col2,#T_7be3d_row3_col4,#T_7be3d_row4_col2,#T_7be3d_row4_col4,#T_7be3d_row5_col2,#T_7be3d_row5_col4{\n",
       "            background-color:  #f6faff;\n",
       "            color:  #000000;\n",
       "        }#T_7be3d_row4_col3{\n",
       "            background-color:  #e7f1fa;\n",
       "            color:  #000000;\n",
       "        }#T_7be3d_row5_col3{\n",
       "            background-color:  #d8e7f5;\n",
       "            color:  #000000;\n",
       "        }#T_7be3d_row7_col3{\n",
       "            background-color:  #dbe9f6;\n",
       "            color:  #000000;\n",
       "        }#T_7be3d_row8_col3,#T_7be3d_row12_col3{\n",
       "            background-color:  #eff6fc;\n",
       "            color:  #000000;\n",
       "        }#T_7be3d_row9_col3{\n",
       "            background-color:  #75b4d8;\n",
       "            color:  #000000;\n",
       "        }#T_7be3d_row10_col3{\n",
       "            background-color:  #ecf4fb;\n",
       "            color:  #000000;\n",
       "        }#T_7be3d_row11_col3{\n",
       "            background-color:  #f2f7fd;\n",
       "            color:  #000000;\n",
       "        }#T_7be3d_row14_col3{\n",
       "            background-color:  #f3f8fe;\n",
       "            color:  #000000;\n",
       "        }</style><table id=\"T_7be3d_\" ><thead>    <tr>        <th class=\"blank level0\" ></th>        <th class=\"col_heading level0 col0\" >binary score</th>        <th class=\"col_heading level0 col1\" >bm25 score</th>        <th class=\"col_heading level0 col2\" >page_views</th>        <th class=\"col_heading level0 col3\" >page rank</th>        <th class=\"col_heading level0 col4\" >total score</th>    </tr></thead><tbody>\n",
       "                <tr>\n",
       "                        <th id=\"T_7be3d_level0_row0\" class=\"row_heading level0 row0\" >Making it Home with Kortney and Kenny</th>\n",
       "                        <td id=\"T_7be3d_row0_col0\" class=\"data row0 col0\" >1.000</td>\n",
       "                        <td id=\"T_7be3d_row0_col1\" class=\"data row0 col1\" >0.000</td>\n",
       "                        <td id=\"T_7be3d_row0_col2\" class=\"data row0 col2\" >54027.000</td>\n",
       "                        <td id=\"T_7be3d_row0_col3\" class=\"data row0 col3\" >0.200</td>\n",
       "                        <td id=\"T_7be3d_row0_col4\" class=\"data row0 col4\" >1.030</td>\n",
       "            </tr>\n",
       "            <tr>\n",
       "                        <th id=\"T_7be3d_level0_row1\" class=\"row_heading level0 row1\" >Just what is it that makes today's homes so different, so appealing?</th>\n",
       "                        <td id=\"T_7be3d_row1_col0\" class=\"data row1 col0\" >1.000</td>\n",
       "                        <td id=\"T_7be3d_row1_col1\" class=\"data row1 col1\" >0.000</td>\n",
       "                        <td id=\"T_7be3d_row1_col2\" class=\"data row1 col2\" >1831.000</td>\n",
       "                        <td id=\"T_7be3d_row1_col3\" class=\"data row1 col3\" >0.611</td>\n",
       "                        <td id=\"T_7be3d_row1_col4\" class=\"data row1 col4\" >1.001</td>\n",
       "            </tr>\n",
       "            <tr>\n",
       "                        <th id=\"T_7be3d_level0_row2\" class=\"row_heading level0 row2\" >If an Angel Came to See You, Would You Make Her Feel at Home?</th>\n",
       "                        <td id=\"T_7be3d_row2_col0\" class=\"data row2 col0\" >1.000</td>\n",
       "                        <td id=\"T_7be3d_row2_col1\" class=\"data row2 col1\" >0.000</td>\n",
       "                        <td id=\"T_7be3d_row2_col2\" class=\"data row2 col2\" >430.000</td>\n",
       "                        <td id=\"T_7be3d_row2_col3\" class=\"data row2 col3\" >0.218</td>\n",
       "                        <td id=\"T_7be3d_row2_col4\" class=\"data row2 col4\" >1.000</td>\n",
       "            </tr>\n",
       "            <tr>\n",
       "                        <th id=\"T_7be3d_level0_row3\" class=\"row_heading level0 row3\" >Making Home Affordable</th>\n",
       "                        <td id=\"T_7be3d_row3_col0\" class=\"data row3 col0\" >1.000</td>\n",
       "                        <td id=\"T_7be3d_row3_col1\" class=\"data row3 col1\" >0.000</td>\n",
       "                        <td id=\"T_7be3d_row3_col2\" class=\"data row3 col2\" >373.000</td>\n",
       "                        <td id=\"T_7be3d_row3_col3\" class=\"data row3 col3\" >1.181</td>\n",
       "                        <td id=\"T_7be3d_row3_col4\" class=\"data row3 col4\" >1.000</td>\n",
       "            </tr>\n",
       "            <tr>\n",
       "                        <th id=\"T_7be3d_level0_row4\" class=\"row_heading level0 row4\" >The Ones That Didn't Make It Back Home</th>\n",
       "                        <td id=\"T_7be3d_row4_col0\" class=\"data row4 col0\" >1.000</td>\n",
       "                        <td id=\"T_7be3d_row4_col1\" class=\"data row4 col1\" >0.000</td>\n",
       "                        <td id=\"T_7be3d_row4_col2\" class=\"data row4 col2\" >331.000</td>\n",
       "                        <td id=\"T_7be3d_row4_col3\" class=\"data row4 col3\" >0.234</td>\n",
       "                        <td id=\"T_7be3d_row4_col4\" class=\"data row4 col4\" >1.000</td>\n",
       "            </tr>\n",
       "            <tr>\n",
       "                        <th id=\"T_7be3d_level0_row5\" class=\"row_heading level0 row5\" >Don't It Make You Want to Go Home</th>\n",
       "                        <td id=\"T_7be3d_row5_col0\" class=\"data row5 col0\" >1.000</td>\n",
       "                        <td id=\"T_7be3d_row5_col1\" class=\"data row5 col1\" >0.000</td>\n",
       "                        <td id=\"T_7be3d_row5_col2\" class=\"data row5 col2\" >227.000</td>\n",
       "                        <td id=\"T_7be3d_row5_col3\" class=\"data row5 col3\" >0.312</td>\n",
       "                        <td id=\"T_7be3d_row5_col4\" class=\"data row5 col4\" >1.000</td>\n",
       "            </tr>\n",
       "            <tr>\n",
       "                        <th id=\"T_7be3d_level0_row6\" class=\"row_heading level0 row6\" >List of Last of the Summer Wine home video releases</th>\n",
       "                        <td id=\"T_7be3d_row6_col0\" class=\"data row6 col0\" >1.000</td>\n",
       "                        <td id=\"T_7be3d_row6_col1\" class=\"data row6 col1\" >0.000</td>\n",
       "                        <td id=\"T_7be3d_row6_col2\" class=\"data row6 col2\" >167.000</td>\n",
       "                        <td id=\"T_7be3d_row6_col3\" class=\"data row6 col3\" >0.150</td>\n",
       "                        <td id=\"T_7be3d_row6_col4\" class=\"data row6 col4\" >1.000</td>\n",
       "            </tr>\n",
       "            <tr>\n",
       "                        <th id=\"T_7be3d_level0_row7\" class=\"row_heading level0 row7\" >The Make Yourself at Home EP</th>\n",
       "                        <td id=\"T_7be3d_row7_col0\" class=\"data row7 col0\" >1.000</td>\n",
       "                        <td id=\"T_7be3d_row7_col1\" class=\"data row7 col1\" >0.000</td>\n",
       "                        <td id=\"T_7be3d_row7_col2\" class=\"data row7 col2\" >157.000</td>\n",
       "                        <td id=\"T_7be3d_row7_col3\" class=\"data row7 col3\" >0.296</td>\n",
       "                        <td id=\"T_7be3d_row7_col4\" class=\"data row7 col4\" >1.000</td>\n",
       "            </tr>\n",
       "            <tr>\n",
       "                        <th id=\"T_7be3d_level0_row8\" class=\"row_heading level0 row8\" >Make Sure You're Home for Christmas</th>\n",
       "                        <td id=\"T_7be3d_row8_col0\" class=\"data row8 col0\" >1.000</td>\n",
       "                        <td id=\"T_7be3d_row8_col1\" class=\"data row8 col1\" >0.000</td>\n",
       "                        <td id=\"T_7be3d_row8_col2\" class=\"data row8 col2\" >97.000</td>\n",
       "                        <td id=\"T_7be3d_row8_col3\" class=\"data row8 col3\" >0.193</td>\n",
       "                        <td id=\"T_7be3d_row8_col4\" class=\"data row8 col4\" >1.000</td>\n",
       "            </tr>\n",
       "            <tr>\n",
       "                        <th id=\"T_7be3d_level0_row9\" class=\"row_heading level0 row9\" >Matt Kramer (wine writer)</th>\n",
       "                        <td id=\"T_7be3d_row9_col0\" class=\"data row9 col0\" >0.000</td>\n",
       "                        <td id=\"T_7be3d_row9_col1\" class=\"data row9 col1\" >1.000</td>\n",
       "                        <td id=\"T_7be3d_row9_col2\" class=\"data row9 col2\" >77.000</td>\n",
       "                        <td id=\"T_7be3d_row9_col3\" class=\"data row9 col3\" >0.640</td>\n",
       "                        <td id=\"T_7be3d_row9_col4\" class=\"data row9 col4\" >1.000</td>\n",
       "            </tr>\n",
       "            <tr>\n",
       "                        <th id=\"T_7be3d_level0_row10\" class=\"row_heading level0 row10\" >Trying to Make Heaven My Home</th>\n",
       "                        <td id=\"T_7be3d_row10_col0\" class=\"data row10 col0\" >1.000</td>\n",
       "                        <td id=\"T_7be3d_row10_col1\" class=\"data row10 col1\" >0.000</td>\n",
       "                        <td id=\"T_7be3d_row10_col2\" class=\"data row10 col2\" >66.000</td>\n",
       "                        <td id=\"T_7be3d_row10_col3\" class=\"data row10 col3\" >0.208</td>\n",
       "                        <td id=\"T_7be3d_row10_col4\" class=\"data row10 col4\" >1.000</td>\n",
       "            </tr>\n",
       "            <tr>\n",
       "                        <th id=\"T_7be3d_level0_row11\" class=\"row_heading level0 row11\" >If We Ever Make It Home</th>\n",
       "                        <td id=\"T_7be3d_row11_col0\" class=\"data row11 col0\" >1.000</td>\n",
       "                        <td id=\"T_7be3d_row11_col1\" class=\"data row11 col1\" >0.000</td>\n",
       "                        <td id=\"T_7be3d_row11_col2\" class=\"data row11 col2\" >49.000</td>\n",
       "                        <td id=\"T_7be3d_row11_col3\" class=\"data row11 col3\" >0.180</td>\n",
       "                        <td id=\"T_7be3d_row11_col4\" class=\"data row11 col4\" >1.000</td>\n",
       "            </tr>\n",
       "            <tr>\n",
       "                        <th id=\"T_7be3d_level0_row12\" class=\"row_heading level0 row12\" >Never Make It Home</th>\n",
       "                        <td id=\"T_7be3d_row12_col0\" class=\"data row12 col0\" >1.000</td>\n",
       "                        <td id=\"T_7be3d_row12_col1\" class=\"data row12 col1\" >0.000</td>\n",
       "                        <td id=\"T_7be3d_row12_col2\" class=\"data row12 col2\" >27.000</td>\n",
       "                        <td id=\"T_7be3d_row12_col3\" class=\"data row12 col3\" >0.193</td>\n",
       "                        <td id=\"T_7be3d_row12_col4\" class=\"data row12 col4\" >1.000</td>\n",
       "            </tr>\n",
       "            <tr>\n",
       "                        <th id=\"T_7be3d_level0_row13\" class=\"row_heading level0 row13\" >Make Yourself At Home</th>\n",
       "                        <td id=\"T_7be3d_row13_col0\" class=\"data row13 col0\" >1.000</td>\n",
       "                        <td id=\"T_7be3d_row13_col1\" class=\"data row13 col1\" >0.000</td>\n",
       "                        <td id=\"T_7be3d_row13_col2\" class=\"data row13 col2\" >20.000</td>\n",
       "                        <td id=\"T_7be3d_row13_col3\" class=\"data row13 col3\" >0.150</td>\n",
       "                        <td id=\"T_7be3d_row13_col4\" class=\"data row13 col4\" >1.000</td>\n",
       "            </tr>\n",
       "            <tr>\n",
       "                        <th id=\"T_7be3d_level0_row14\" class=\"row_heading level0 row14\" >We Will Make a Home for You</th>\n",
       "                        <td id=\"T_7be3d_row14_col0\" class=\"data row14 col0\" >1.000</td>\n",
       "                        <td id=\"T_7be3d_row14_col1\" class=\"data row14 col1\" >0.000</td>\n",
       "                        <td id=\"T_7be3d_row14_col2\" class=\"data row14 col2\" >7.000</td>\n",
       "                        <td id=\"T_7be3d_row14_col3\" class=\"data row14 col3\" >0.173</td>\n",
       "                        <td id=\"T_7be3d_row14_col4\" class=\"data row14 col4\" >1.000</td>\n",
       "            </tr>\n",
       "    </tbody></table>"
      ],
      "text/plain": [
       "<pandas.io.formats.style.Styler at 0x7fc750c97d60>"
      ]
     },
     "execution_count": 8,
     "metadata": {},
     "output_type": "execute_result"
    }
   ],
   "source": [
    "# bad\n",
    "query = 'How to make wine at home?'\n",
    "info = search_master.quality(query)\n",
    "\n",
    "df= pd.DataFrame(info).T\n",
    "df.head(15).style.background_gradient(cmap='Blues').set_precision(3)"
   ]
  },
  {
   "cell_type": "code",
   "execution_count": 9,
   "metadata": {},
   "outputs": [
    {
     "data": {
      "text/html": [
       "<style  type=\"text/css\" >\n",
       "#T_d4d22_row0_col0,#T_d4d22_row0_col2,#T_d4d22_row0_col3,#T_d4d22_row0_col4,#T_d4d22_row1_col0,#T_d4d22_row1_col4,#T_d4d22_row2_col0,#T_d4d22_row3_col0,#T_d4d22_row4_col0,#T_d4d22_row5_col0,#T_d4d22_row6_col0,#T_d4d22_row7_col0,#T_d4d22_row8_col0,#T_d4d22_row9_col0,#T_d4d22_row10_col0,#T_d4d22_row11_col0,#T_d4d22_row12_col1,#T_d4d22_row13_col0,#T_d4d22_row14_col0{\n",
       "            background-color:  #08306b;\n",
       "            color:  #f1f1f1;\n",
       "        }#T_d4d22_row0_col1{\n",
       "            background-color:  #08326e;\n",
       "            color:  #f1f1f1;\n",
       "        }#T_d4d22_row1_col1{\n",
       "            background-color:  #08316d;\n",
       "            color:  #f1f1f1;\n",
       "        }#T_d4d22_row1_col2{\n",
       "            background-color:  #f2f8fd;\n",
       "            color:  #000000;\n",
       "        }#T_d4d22_row1_col3{\n",
       "            background-color:  #f0f6fd;\n",
       "            color:  #000000;\n",
       "        }#T_d4d22_row2_col1,#T_d4d22_row3_col1,#T_d4d22_row3_col4,#T_d4d22_row4_col4{\n",
       "            background-color:  #083674;\n",
       "            color:  #f1f1f1;\n",
       "        }#T_d4d22_row2_col2{\n",
       "            background-color:  #d7e6f5;\n",
       "            color:  #000000;\n",
       "        }#T_d4d22_row2_col3{\n",
       "            background-color:  #dfebf7;\n",
       "            color:  #000000;\n",
       "        }#T_d4d22_row2_col4{\n",
       "            background-color:  #083573;\n",
       "            color:  #f1f1f1;\n",
       "        }#T_d4d22_row3_col2,#T_d4d22_row3_col3,#T_d4d22_row4_col2,#T_d4d22_row4_col3,#T_d4d22_row7_col1,#T_d4d22_row7_col4,#T_d4d22_row8_col1,#T_d4d22_row8_col4,#T_d4d22_row9_col1,#T_d4d22_row9_col4,#T_d4d22_row10_col1,#T_d4d22_row10_col4,#T_d4d22_row11_col1,#T_d4d22_row11_col4,#T_d4d22_row12_col0,#T_d4d22_row12_col4,#T_d4d22_row13_col1,#T_d4d22_row13_col4,#T_d4d22_row14_col1,#T_d4d22_row14_col4{\n",
       "            background-color:  #f7fbff;\n",
       "            color:  #000000;\n",
       "        }#T_d4d22_row4_col1{\n",
       "            background-color:  #083776;\n",
       "            color:  #f1f1f1;\n",
       "        }#T_d4d22_row5_col1,#T_d4d22_row6_col1{\n",
       "            background-color:  #083c7d;\n",
       "            color:  #f1f1f1;\n",
       "        }#T_d4d22_row5_col2,#T_d4d22_row6_col2,#T_d4d22_row6_col3,#T_d4d22_row8_col3,#T_d4d22_row11_col3{\n",
       "            background-color:  #f5fafe;\n",
       "            color:  #000000;\n",
       "        }#T_d4d22_row5_col3,#T_d4d22_row9_col3{\n",
       "            background-color:  #eef5fc;\n",
       "            color:  #000000;\n",
       "        }#T_d4d22_row5_col4,#T_d4d22_row6_col4{\n",
       "            background-color:  #083b7c;\n",
       "            color:  #f1f1f1;\n",
       "        }#T_d4d22_row7_col2{\n",
       "            background-color:  #e0ecf8;\n",
       "            color:  #000000;\n",
       "        }#T_d4d22_row7_col3{\n",
       "            background-color:  #e3eef9;\n",
       "            color:  #000000;\n",
       "        }#T_d4d22_row8_col2{\n",
       "            background-color:  #e1edf8;\n",
       "            color:  #000000;\n",
       "        }#T_d4d22_row9_col2{\n",
       "            background-color:  #e5eff9;\n",
       "            color:  #000000;\n",
       "        }#T_d4d22_row10_col2{\n",
       "            background-color:  #ebf3fb;\n",
       "            color:  #000000;\n",
       "        }#T_d4d22_row10_col3,#T_d4d22_row13_col2{\n",
       "            background-color:  #f4f9fe;\n",
       "            color:  #000000;\n",
       "        }#T_d4d22_row11_col2{\n",
       "            background-color:  #f1f7fd;\n",
       "            color:  #000000;\n",
       "        }#T_d4d22_row12_col2{\n",
       "            background-color:  #f3f8fe;\n",
       "            color:  #000000;\n",
       "        }#T_d4d22_row12_col3,#T_d4d22_row13_col3{\n",
       "            background-color:  #f6faff;\n",
       "            color:  #000000;\n",
       "        }#T_d4d22_row14_col2,#T_d4d22_row14_col3{\n",
       "            background-color:  #f5f9fe;\n",
       "            color:  #000000;\n",
       "        }</style><table id=\"T_d4d22_\" ><thead>    <tr>        <th class=\"blank level0\" ></th>        <th class=\"col_heading level0 col0\" >binary score</th>        <th class=\"col_heading level0 col1\" >bm25 score</th>        <th class=\"col_heading level0 col2\" >page_views</th>        <th class=\"col_heading level0 col3\" >page rank</th>        <th class=\"col_heading level0 col4\" >total score</th>    </tr></thead><tbody>\n",
       "                <tr>\n",
       "                        <th id=\"T_d4d22_level0_row0\" class=\"row_heading level0 row0\" >Information retrieval</th>\n",
       "                        <td id=\"T_d4d22_row0_col0\" class=\"data row0 col0\" >1.000</td>\n",
       "                        <td id=\"T_d4d22_row0_col1\" class=\"data row0 col1\" >0.990</td>\n",
       "                        <td id=\"T_d4d22_row0_col2\" class=\"data row0 col2\" >12510.000</td>\n",
       "                        <td id=\"T_d4d22_row0_col3\" class=\"data row0 col3\" >34.360</td>\n",
       "                        <td id=\"T_d4d22_row0_col4\" class=\"data row0 col4\" >1.997</td>\n",
       "            </tr>\n",
       "            <tr>\n",
       "                        <th id=\"T_d4d22_level0_row1\" class=\"row_heading level0 row1\" >Cross-language information retrieval</th>\n",
       "                        <td id=\"T_d4d22_row1_col0\" class=\"data row1 col0\" >1.000</td>\n",
       "                        <td id=\"T_d4d22_row1_col1\" class=\"data row1 col1\" >0.993</td>\n",
       "                        <td id=\"T_d4d22_row1_col2\" class=\"data row1 col2\" >333.000</td>\n",
       "                        <td id=\"T_d4d22_row1_col3\" class=\"data row1 col3\" >1.468</td>\n",
       "                        <td id=\"T_d4d22_row1_col4\" class=\"data row1 col4\" >1.993</td>\n",
       "            </tr>\n",
       "            <tr>\n",
       "                        <th id=\"T_d4d22_level0_row2\" class=\"row_heading level0 row2\" >Relevance (information retrieval)</th>\n",
       "                        <td id=\"T_d4d22_row2_col0\" class=\"data row2 col0\" >1.000</td>\n",
       "                        <td id=\"T_d4d22_row2_col1\" class=\"data row2 col1\" >0.974</td>\n",
       "                        <td id=\"T_d4d22_row2_col2\" class=\"data row2 col2\" >2050.000</td>\n",
       "                        <td id=\"T_d4d22_row2_col3\" class=\"data row2 col3\" >4.453</td>\n",
       "                        <td id=\"T_d4d22_row2_col4\" class=\"data row2 col4\" >1.975</td>\n",
       "            </tr>\n",
       "            <tr>\n",
       "                        <th id=\"T_d4d22_level0_row3\" class=\"row_heading level0 row3\" >Information Retrieval Specialist Group</th>\n",
       "                        <td id=\"T_d4d22_row3_col0\" class=\"data row3 col0\" >1.000</td>\n",
       "                        <td id=\"T_d4d22_row3_col1\" class=\"data row3 col1\" >0.973</td>\n",
       "                        <td id=\"T_d4d22_row3_col2\" class=\"data row3 col2\" >6.000</td>\n",
       "                        <td id=\"T_d4d22_row3_col3\" class=\"data row3 col3\" >0.215</td>\n",
       "                        <td id=\"T_d4d22_row3_col4\" class=\"data row3 col4\" >1.973</td>\n",
       "            </tr>\n",
       "            <tr>\n",
       "                        <th id=\"T_d4d22_level0_row4\" class=\"row_heading level0 row4\" >Information Retrieval Facility</th>\n",
       "                        <td id=\"T_d4d22_row4_col0\" class=\"data row4 col0\" >1.000</td>\n",
       "                        <td id=\"T_d4d22_row4_col1\" class=\"data row4 col1\" >0.970</td>\n",
       "                        <td id=\"T_d4d22_row4_col2\" class=\"data row4 col2\" >24.000</td>\n",
       "                        <td id=\"T_d4d22_row4_col3\" class=\"data row4 col3\" >0.223</td>\n",
       "                        <td id=\"T_d4d22_row4_col4\" class=\"data row4 col4\" >1.970</td>\n",
       "            </tr>\n",
       "            <tr>\n",
       "                        <th id=\"T_d4d22_level0_row5\" class=\"row_heading level0 row5\" >Special Interest Group on Information Retrieval</th>\n",
       "                        <td id=\"T_d4d22_row5_col0\" class=\"data row5 col0\" >1.000</td>\n",
       "                        <td id=\"T_d4d22_row5_col1\" class=\"data row5 col1\" >0.952</td>\n",
       "                        <td id=\"T_d4d22_row5_col2\" class=\"data row5 col2\" >110.000</td>\n",
       "                        <td id=\"T_d4d22_row5_col3\" class=\"data row5 col3\" >1.908</td>\n",
       "                        <td id=\"T_d4d22_row5_col4\" class=\"data row5 col4\" >1.952</td>\n",
       "            </tr>\n",
       "            <tr>\n",
       "                        <th id=\"T_d4d22_level0_row6\" class=\"row_heading level0 row6\" >Human–computer information retrieval</th>\n",
       "                        <td id=\"T_d4d22_row6_col0\" class=\"data row6 col0\" >1.000</td>\n",
       "                        <td id=\"T_d4d22_row6_col1\" class=\"data row6 col1\" >0.952</td>\n",
       "                        <td id=\"T_d4d22_row6_col2\" class=\"data row6 col2\" >145.000</td>\n",
       "                        <td id=\"T_d4d22_row6_col3\" class=\"data row6 col3\" >0.580</td>\n",
       "                        <td id=\"T_d4d22_row6_col4\" class=\"data row6 col4\" >1.952</td>\n",
       "            </tr>\n",
       "            <tr>\n",
       "                        <th id=\"T_d4d22_level0_row7\" class=\"row_heading level0 row7\" >Music information retrieval</th>\n",
       "                        <td id=\"T_d4d22_row7_col0\" class=\"data row7 col0\" >1.000</td>\n",
       "                        <td id=\"T_d4d22_row7_col1\" class=\"data row7 col1\" >0.000</td>\n",
       "                        <td id=\"T_d4d22_row7_col2\" class=\"data row7 col2\" >1464.000</td>\n",
       "                        <td id=\"T_d4d22_row7_col3\" class=\"data row7 col3\" >3.552</td>\n",
       "                        <td id=\"T_d4d22_row7_col4\" class=\"data row7 col4\" >1.001</td>\n",
       "            </tr>\n",
       "            <tr>\n",
       "                        <th id=\"T_d4d22_level0_row8\" class=\"row_heading level0 row8\" >Boolean model of information retrieval</th>\n",
       "                        <td id=\"T_d4d22_row8_col0\" class=\"data row8 col0\" >1.000</td>\n",
       "                        <td id=\"T_d4d22_row8_col1\" class=\"data row8 col1\" >0.000</td>\n",
       "                        <td id=\"T_d4d22_row8_col2\" class=\"data row8 col2\" >1377.000</td>\n",
       "                        <td id=\"T_d4d22_row8_col3\" class=\"data row8 col3\" >0.540</td>\n",
       "                        <td id=\"T_d4d22_row8_col4\" class=\"data row8 col4\" >1.001</td>\n",
       "            </tr>\n",
       "            <tr>\n",
       "                        <th id=\"T_d4d22_level0_row9\" class=\"row_heading level0 row9\" >Ranking (information retrieval)</th>\n",
       "                        <td id=\"T_d4d22_row9_col0\" class=\"data row9 col0\" >1.000</td>\n",
       "                        <td id=\"T_d4d22_row9_col1\" class=\"data row9 col1\" >0.000</td>\n",
       "                        <td id=\"T_d4d22_row9_col2\" class=\"data row9 col2\" >1171.000</td>\n",
       "                        <td id=\"T_d4d22_row9_col3\" class=\"data row9 col3\" >1.850</td>\n",
       "                        <td id=\"T_d4d22_row9_col4\" class=\"data row9 col4\" >1.001</td>\n",
       "            </tr>\n",
       "            <tr>\n",
       "                        <th id=\"T_d4d22_level0_row10\" class=\"row_heading level0 row10\" >Private information retrieval</th>\n",
       "                        <td id=\"T_d4d22_row10_col0\" class=\"data row10 col0\" >1.000</td>\n",
       "                        <td id=\"T_d4d22_row10_col1\" class=\"data row10 col1\" >0.000</td>\n",
       "                        <td id=\"T_d4d22_row10_col2\" class=\"data row10 col2\" >745.000</td>\n",
       "                        <td id=\"T_d4d22_row10_col3\" class=\"data row10 col3\" >0.816</td>\n",
       "                        <td id=\"T_d4d22_row10_col4\" class=\"data row10 col4\" >1.000</td>\n",
       "            </tr>\n",
       "            <tr>\n",
       "                        <th id=\"T_d4d22_level0_row11\" class=\"row_heading level0 row11\" >SMART Information Retrieval System</th>\n",
       "                        <td id=\"T_d4d22_row11_col0\" class=\"data row11 col0\" >1.000</td>\n",
       "                        <td id=\"T_d4d22_row11_col1\" class=\"data row11 col1\" >0.000</td>\n",
       "                        <td id=\"T_d4d22_row11_col2\" class=\"data row11 col2\" >402.000</td>\n",
       "                        <td id=\"T_d4d22_row11_col3\" class=\"data row11 col3\" >0.613</td>\n",
       "                        <td id=\"T_d4d22_row11_col4\" class=\"data row11 col4\" >1.000</td>\n",
       "            </tr>\n",
       "            <tr>\n",
       "                        <th id=\"T_d4d22_level0_row12\" class=\"row_heading level0 row12\" >Knowledge retrieval</th>\n",
       "                        <td id=\"T_d4d22_row12_col0\" class=\"data row12 col0\" >0.000</td>\n",
       "                        <td id=\"T_d4d22_row12_col1\" class=\"data row12 col1\" >1.000</td>\n",
       "                        <td id=\"T_d4d22_row12_col2\" class=\"data row12 col2\" >265.000</td>\n",
       "                        <td id=\"T_d4d22_row12_col3\" class=\"data row12 col3\" >0.389</td>\n",
       "                        <td id=\"T_d4d22_row12_col4\" class=\"data row12 col4\" >1.000</td>\n",
       "            </tr>\n",
       "            <tr>\n",
       "                        <th id=\"T_d4d22_level0_row13\" class=\"row_heading level0 row13\" >Information retrieval query language</th>\n",
       "                        <td id=\"T_d4d22_row13_col0\" class=\"data row13 col0\" >1.000</td>\n",
       "                        <td id=\"T_d4d22_row13_col1\" class=\"data row13 col1\" >0.000</td>\n",
       "                        <td id=\"T_d4d22_row13_col2\" class=\"data row13 col2\" >232.000</td>\n",
       "                        <td id=\"T_d4d22_row13_col3\" class=\"data row13 col3\" >0.371</td>\n",
       "                        <td id=\"T_d4d22_row13_col4\" class=\"data row13 col4\" >1.000</td>\n",
       "            </tr>\n",
       "            <tr>\n",
       "                        <th id=\"T_d4d22_level0_row14\" class=\"row_heading level0 row14\" >European Conference on Information Retrieval</th>\n",
       "                        <td id=\"T_d4d22_row14_col0\" class=\"data row14 col0\" >1.000</td>\n",
       "                        <td id=\"T_d4d22_row14_col1\" class=\"data row14 col1\" >0.000</td>\n",
       "                        <td id=\"T_d4d22_row14_col2\" class=\"data row14 col2\" >194.000</td>\n",
       "                        <td id=\"T_d4d22_row14_col3\" class=\"data row14 col3\" >0.646</td>\n",
       "                        <td id=\"T_d4d22_row14_col4\" class=\"data row14 col4\" >1.000</td>\n",
       "            </tr>\n",
       "    </tbody></table>"
      ],
      "text/plain": [
       "<pandas.io.formats.style.Styler at 0x7fc6302b3880>"
      ]
     },
     "execution_count": 9,
     "metadata": {},
     "output_type": "execute_result"
    }
   ],
   "source": [
    "# good\n",
    "query = 'Information retrieval'\n",
    "info = search_master.quality(query)\n",
    "\n",
    "df= pd.DataFrame(info).T\n",
    "df.head(15).style.background_gradient(cmap='Blues').set_precision(3)"
   ]
  },
  {
   "cell_type": "code",
   "execution_count": 39,
   "metadata": {},
   "outputs": [],
   "source": [
    "time_search = dict()\n",
    "self= search_master\n",
    "engines = {'page rank':self.get_pagerank, 'page view':self.get_pageviews, 'search title':self.get_relevant_titles, 'search anchor':self.get_relevant_anchors, 'search body':self.get_relevant_bodies, 'search':self.best_search}\n",
    "for name, test in list(engines.items())[2:]:\n",
    "    start = time()\n",
    "    for (query, _) in queries.items():\n",
    "        res = test(query)\n",
    "        \n",
    "    time_search[name]= (time()-start) / 30"
   ]
  },
  {
   "cell_type": "code",
   "execution_count": 41,
   "metadata": {},
   "outputs": [
    {
     "data": {
      "image/png": "[encoded data removed]",
      "text/plain": [
       "<Figure size 800x600 with 1 Axes>"
      ]
     },
     "metadata": {},
     "output_type": "display_data"
    }
   ],
   "source": [
    "import matplotlib.pyplot as plt\n",
    "plt.figure(figsize=(8, 6))\n",
    "D = time_search\n",
    "plt.bar(range(len(D)), list(D.values()), align='center')\n",
    "plt.xticks(range(len(D)), list(D.keys()))\n",
    "plt.ylabel('Time')\n",
    "plt.xlabel('Method')\n",
    "plt.title('Average time for different search engine')\n",
    "plt.xticks(rotation=45)\n",
    "plt.show()"
   ]
  },
  {
   "cell_type": "markdown",
   "metadata": {},
   "source": [
    "### grid search best methods"
   ]
  },
  {
   "cell_type": "markdown",
   "metadata": {},
   "source": [
    "### Page rank and Page view"
   ]
  },
  {
   "cell_type": "code",
   "execution_count": null,
   "metadata": {},
   "outputs": [],
   "source": [
    "wiki_ids = []"
   ]
  },
  {
   "cell_type": "code",
   "execution_count": null,
   "metadata": {},
   "outputs": [],
   "source": [
    "res = requests.post(url + '/get_pagerank', json=wiki_ids, timeout=35)\n",
    "if res.status_code == 200:\n",
    "    res.json()"
   ]
  },
  {
   "cell_type": "code",
   "execution_count": null,
   "metadata": {},
   "outputs": [],
   "source": [
    "res = requests.post(url + '/get_pagerank', json=wiki_ids, timeout=35)\n",
    "if res.status_code == 200:\n",
    "    res.json()"
   ]
  }
 ],
 "metadata": {
  "kernelspec": {
   "display_name": "Python 3",
   "language": "python",
   "name": "python3"
  },
  "language_info": {
   "codemirror_mode": {
    "name": "ipython",
    "version": 3
   },
   "file_extension": ".py",
   "mimetype": "text/x-python",
   "name": "python",
   "nbconvert_exporter": "python",
   "pygments_lexer": "ipython3",
   "version": "3.8.15"
  },
  "vscode": {
   "interpreter": {
    "hash": "6fff98fc3b3d81bd655c2cc48858186e4d9e2db7b515bf1c3221888f12a62f87"
   }
  }
 },
 "nbformat": 4,
 "nbformat_minor": 2
}
